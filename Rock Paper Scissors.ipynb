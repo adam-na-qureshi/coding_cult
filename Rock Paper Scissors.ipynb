{
 "cells": [
  {
   "cell_type": "code",
   "execution_count": 1,
   "metadata": {},
   "outputs": [],
   "source": [
    "from random import randint"
   ]
  },
  {
   "cell_type": "code",
   "execution_count": 2,
   "metadata": {},
   "outputs": [],
   "source": [
    "t=['ROCK', 'PAPER', 'SCISSORS']"
   ]
  },
  {
   "cell_type": "code",
   "execution_count": 3,
   "metadata": {},
   "outputs": [],
   "source": [
    "computer=t[randint(0, 2)]"
   ]
  },
  {
   "cell_type": "code",
   "execution_count": 4,
   "metadata": {},
   "outputs": [],
   "source": [
    "player=False"
   ]
  },
  {
   "cell_type": "code",
   "execution_count": null,
   "metadata": {},
   "outputs": [
    {
     "name": "stdout",
     "output_type": "stream",
     "text": [
      "Rock, Paper, Scissors?: rock\n",
      "You win! ROCK smashes PAPER \n",
      "\n",
      "Rock, Paper, Scissors?: paper\n",
      "You win! PAPER covers ROCK \n",
      "\n",
      "Rock, Paper, Scissors?: scissors\n",
      "You win! SCISSORS cuts ROCK \n",
      "\n",
      "Rock, Paper, Scissors?: zjkssdhfbsdhjfb\n",
      "That is not a valid play, check your spelling!\n"
     ]
    }
   ],
   "source": [
    "while player==False:\n",
    "#set player to True\n",
    "    player=input('Rock, Paper, Scissors?: ')\n",
    "    player=player.upper()\n",
    "    if player ==computer:\n",
    "        print('Tie!')\n",
    "    elif player=='ROCK':\n",
    "        if computer =='Paper':\n",
    "            print('You lose!', computer, 'covers', player, '\\n')\n",
    "        else:\n",
    "            print('You win!', player, 'smashes', computer,'\\n')\n",
    "    elif player=='PAPER':\n",
    "        if computer=='Scissors':\n",
    "            print('You lose!', computer, 'cuts', player, '\\n')\n",
    "        else:\n",
    "            print('You win!', player, 'covers', computer, '\\n')\n",
    "    elif player=='SCISSORS':\n",
    "        if computer=='Rock':\n",
    "            print('You lose!', computer, 'smashes', player, '\\n')\n",
    "        else:\n",
    "            print('You win!', player, 'cuts', computer, '\\n')\n",
    "    else:\n",
    "        print('That is not a valid play, check your spelling!')\n",
    "    player=False\n",
    "    computer=t[randint(0, 2)]"
   ]
  },
  {
   "cell_type": "code",
   "execution_count": null,
   "metadata": {},
   "outputs": [],
   "source": []
  }
 ],
 "metadata": {
  "kernelspec": {
   "display_name": "Python 3",
   "language": "python",
   "name": "python3"
  },
  "language_info": {
   "codemirror_mode": {
    "name": "ipython",
    "version": 3
   },
   "file_extension": ".py",
   "mimetype": "text/x-python",
   "name": "python",
   "nbconvert_exporter": "python",
   "pygments_lexer": "ipython3",
   "version": "3.7.7"
  }
 },
 "nbformat": 4,
 "nbformat_minor": 4
}
