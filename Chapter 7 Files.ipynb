{
 "cells": [
  {
   "cell_type": "code",
   "execution_count": 2,
   "metadata": {},
   "outputs": [
    {
     "name": "stdout",
     "output_type": "stream",
     "text": [
      "<_io.TextIOWrapper name='mbox.txt' mode='r' encoding='cp1252'>\n"
     ]
    }
   ],
   "source": [
    "fhand=open('mbox.txt')\n",
    "print(fhand)"
   ]
  },
  {
   "cell_type": "code",
   "execution_count": 3,
   "metadata": {},
   "outputs": [
    {
     "data": {
      "text/plain": [
       "'Hello\\nWorld!'"
      ]
     },
     "execution_count": 3,
     "metadata": {},
     "output_type": "execute_result"
    }
   ],
   "source": [
    "stuff='Hello\\nWorld!'\n",
    "stuff"
   ]
  },
  {
   "cell_type": "code",
   "execution_count": 4,
   "metadata": {},
   "outputs": [
    {
     "name": "stdout",
     "output_type": "stream",
     "text": [
      "Hello\n",
      "World!\n"
     ]
    }
   ],
   "source": [
    "print(stuff)"
   ]
  },
  {
   "cell_type": "code",
   "execution_count": 5,
   "metadata": {},
   "outputs": [
    {
     "data": {
      "text/plain": [
       "'X\\nY'"
      ]
     },
     "execution_count": 5,
     "metadata": {},
     "output_type": "execute_result"
    }
   ],
   "source": [
    "stuff='X\\nY'\n",
    "stuff"
   ]
  },
  {
   "cell_type": "code",
   "execution_count": 6,
   "metadata": {},
   "outputs": [
    {
     "name": "stdout",
     "output_type": "stream",
     "text": [
      "X\n",
      "Y\n"
     ]
    }
   ],
   "source": [
    "print(stuff)"
   ]
  },
  {
   "cell_type": "code",
   "execution_count": 7,
   "metadata": {},
   "outputs": [
    {
     "data": {
      "text/plain": [
       "3"
      ]
     },
     "execution_count": 7,
     "metadata": {},
     "output_type": "execute_result"
    }
   ],
   "source": [
    "len(stuff)"
   ]
  },
  {
   "cell_type": "code",
   "execution_count": 8,
   "metadata": {},
   "outputs": [],
   "source": [
    "fhand=open('mbox-short.txt')"
   ]
  },
  {
   "cell_type": "code",
   "execution_count": 10,
   "metadata": {},
   "outputs": [
    {
     "name": "stdout",
     "output_type": "stream",
     "text": [
      "Line count: 1910\n"
     ]
    }
   ],
   "source": [
    "count=0\n",
    "for line in fhand:\n",
    "    count=count+1\n",
    "print('Line count:', count)"
   ]
  },
  {
   "cell_type": "code",
   "execution_count": 12,
   "metadata": {},
   "outputs": [
    {
     "name": "stdout",
     "output_type": "stream",
     "text": [
      "0\n"
     ]
    }
   ],
   "source": [
    "inp=fhand.read()\n",
    "print(len(inp))"
   ]
  },
  {
   "cell_type": "code",
   "execution_count": 13,
   "metadata": {},
   "outputs": [
    {
     "name": "stdout",
     "output_type": "stream",
     "text": [
      "\n"
     ]
    }
   ],
   "source": [
    "print(inp[:20])"
   ]
  },
  {
   "cell_type": "code",
   "execution_count": 14,
   "metadata": {
    "scrolled": true
   },
   "outputs": [
    {
     "name": "stdout",
     "output_type": "stream",
     "text": [
      "From: stephen.marquard@uct.ac.za\n",
      "\n",
      "From: louis@media.berkeley.edu\n",
      "\n",
      "From: zqian@umich.edu\n",
      "\n",
      "From: rjlowe@iupui.edu\n",
      "\n",
      "From: zqian@umich.edu\n",
      "\n",
      "From: rjlowe@iupui.edu\n",
      "\n",
      "From: cwen@iupui.edu\n",
      "\n",
      "From: cwen@iupui.edu\n",
      "\n",
      "From: gsilver@umich.edu\n",
      "\n",
      "From: gsilver@umich.edu\n",
      "\n",
      "From: zqian@umich.edu\n",
      "\n",
      "From: gsilver@umich.edu\n",
      "\n",
      "From: wagnermr@iupui.edu\n",
      "\n",
      "From: zqian@umich.edu\n",
      "\n",
      "From: antranig@caret.cam.ac.uk\n",
      "\n",
      "From: gopal.ramasammycook@gmail.com\n",
      "\n",
      "From: david.horwitz@uct.ac.za\n",
      "\n",
      "From: david.horwitz@uct.ac.za\n",
      "\n",
      "From: david.horwitz@uct.ac.za\n",
      "\n",
      "From: david.horwitz@uct.ac.za\n",
      "\n",
      "From: stephen.marquard@uct.ac.za\n",
      "\n",
      "From: louis@media.berkeley.edu\n",
      "\n",
      "From: louis@media.berkeley.edu\n",
      "\n",
      "From: ray@media.berkeley.edu\n",
      "\n",
      "From: cwen@iupui.edu\n",
      "\n",
      "From: cwen@iupui.edu\n",
      "\n",
      "From: cwen@iupui.edu\n",
      "\n"
     ]
    }
   ],
   "source": [
    "fhand=open('mbox-short.txt')\n",
    "for line in fhand:\n",
    "    if line.startswith('From: '):\n",
    "        print(line)"
   ]
  },
  {
   "cell_type": "code",
   "execution_count": 15,
   "metadata": {
    "scrolled": true
   },
   "outputs": [
    {
     "name": "stdout",
     "output_type": "stream",
     "text": [
      "From: stephen.marquard@uct.ac.za\n",
      "From: louis@media.berkeley.edu\n",
      "From: zqian@umich.edu\n",
      "From: rjlowe@iupui.edu\n",
      "From: zqian@umich.edu\n",
      "From: rjlowe@iupui.edu\n",
      "From: cwen@iupui.edu\n",
      "From: cwen@iupui.edu\n",
      "From: gsilver@umich.edu\n",
      "From: gsilver@umich.edu\n",
      "From: zqian@umich.edu\n",
      "From: gsilver@umich.edu\n",
      "From: wagnermr@iupui.edu\n",
      "From: zqian@umich.edu\n",
      "From: antranig@caret.cam.ac.uk\n",
      "From: gopal.ramasammycook@gmail.com\n",
      "From: david.horwitz@uct.ac.za\n",
      "From: david.horwitz@uct.ac.za\n",
      "From: david.horwitz@uct.ac.za\n",
      "From: david.horwitz@uct.ac.za\n",
      "From: stephen.marquard@uct.ac.za\n",
      "From: louis@media.berkeley.edu\n",
      "From: louis@media.berkeley.edu\n",
      "From: ray@media.berkeley.edu\n",
      "From: cwen@iupui.edu\n",
      "From: cwen@iupui.edu\n",
      "From: cwen@iupui.edu\n"
     ]
    }
   ],
   "source": [
    "fhand=open('mbox-short.txt')\n",
    "for line in fhand:\n",
    "    line=line.rstrip()\n",
    "    if line.startswith('From: '):\n",
    "        print(line)"
   ]
  },
  {
   "cell_type": "code",
   "execution_count": 18,
   "metadata": {},
   "outputs": [
    {
     "name": "stdout",
     "output_type": "stream",
     "text": [
      "From: stephen.marquard@uct.ac.za\n",
      "From: louis@media.berkeley.edu\n",
      "From: zqian@umich.edu\n",
      "From: rjlowe@iupui.edu\n",
      "From: zqian@umich.edu\n",
      "From: rjlowe@iupui.edu\n",
      "From: cwen@iupui.edu\n",
      "From: cwen@iupui.edu\n",
      "From: gsilver@umich.edu\n",
      "From: gsilver@umich.edu\n",
      "From: zqian@umich.edu\n",
      "From: gsilver@umich.edu\n",
      "From: wagnermr@iupui.edu\n",
      "From: zqian@umich.edu\n",
      "From: antranig@caret.cam.ac.uk\n",
      "From: gopal.ramasammycook@gmail.com\n",
      "From: david.horwitz@uct.ac.za\n",
      "From: david.horwitz@uct.ac.za\n",
      "From: david.horwitz@uct.ac.za\n",
      "From: david.horwitz@uct.ac.za\n",
      "From: stephen.marquard@uct.ac.za\n",
      "From: louis@media.berkeley.edu\n",
      "From: louis@media.berkeley.edu\n",
      "From: ray@media.berkeley.edu\n",
      "From: cwen@iupui.edu\n",
      "From: cwen@iupui.edu\n",
      "From: cwen@iupui.edu\n"
     ]
    }
   ],
   "source": [
    "fhand=open('mbox-short.txt')\n",
    "for line in fhand:\n",
    "    line=line.rstrip()\n",
    "    #Skips uninteresting lines\n",
    "    if not line.startswith('From: '):\n",
    "        continue\n",
    "    #Process our interesting lines\n",
    "    print(line)"
   ]
  },
  {
   "cell_type": "code",
   "execution_count": 19,
   "metadata": {},
   "outputs": [
    {
     "name": "stdout",
     "output_type": "stream",
     "text": [
      "From stephen.marquard@uct.ac.za Sat Jan  5 09:14:16 2008\n",
      "X-Authentication-Warning: nakamura.uits.iupui.edu: apache set sender to stephen.marquard@uct.ac.za using -f\n",
      "From: stephen.marquard@uct.ac.za\n",
      "Author: stephen.marquard@uct.ac.za\n",
      "From david.horwitz@uct.ac.za Fri Jan  4 07:02:32 2008\n",
      "X-Authentication-Warning: nakamura.uits.iupui.edu: apache set sender to david.horwitz@uct.ac.za using -f\n",
      "From: david.horwitz@uct.ac.za\n",
      "Author: david.horwitz@uct.ac.za\n",
      "r39753 | david.horwitz@uct.ac.za | 2008-01-04 13:05:51 +0200 (Fri, 04 Jan 2008) | 1 line\n",
      "From david.horwitz@uct.ac.za Fri Jan  4 06:08:27 2008\n",
      "X-Authentication-Warning: nakamura.uits.iupui.edu: apache set sender to david.horwitz@uct.ac.za using -f\n",
      "From: david.horwitz@uct.ac.za\n",
      "Author: david.horwitz@uct.ac.za\n",
      "From david.horwitz@uct.ac.za Fri Jan  4 04:49:08 2008\n",
      "X-Authentication-Warning: nakamura.uits.iupui.edu: apache set sender to david.horwitz@uct.ac.za using -f\n",
      "From: david.horwitz@uct.ac.za\n",
      "Author: david.horwitz@uct.ac.za\n",
      "From david.horwitz@uct.ac.za Fri Jan  4 04:33:44 2008\n",
      "X-Authentication-Warning: nakamura.uits.iupui.edu: apache set sender to david.horwitz@uct.ac.za using -f\n",
      "From: david.horwitz@uct.ac.za\n",
      "Author: david.horwitz@uct.ac.za\n",
      "From stephen.marquard@uct.ac.za Fri Jan  4 04:07:34 2008\n",
      "X-Authentication-Warning: nakamura.uits.iupui.edu: apache set sender to stephen.marquard@uct.ac.za using -f\n",
      "From: stephen.marquard@uct.ac.za\n",
      "Author: stephen.marquard@uct.ac.za\n"
     ]
    }
   ],
   "source": [
    "fhand=open('mbox-short.txt')\n",
    "for line in fhand:\n",
    "    line=line.rstrip()\n",
    "    if line.find('@uct.ac.za')==-1:continue\n",
    "    print(line)"
   ]
  },
  {
   "cell_type": "code",
   "execution_count": 3,
   "metadata": {},
   "outputs": [
    {
     "name": "stdout",
     "output_type": "stream",
     "text": [
      "Enter the file name: woomy.jpeg\n",
      "File cannot be found woomy.jpeg\n",
      "There were 0 subject lines in woomy.jpeg\n"
     ]
    }
   ],
   "source": [
    "fname=input('Enter the file name: ')\n",
    "try:\n",
    "    fhand=open(fname)\n",
    "except:\n",
    "    print('File cannot be found', fname)\n",
    "    exit()\n",
    "count=0\n",
    "for line in fhand:\n",
    "    if line.startswith('Subject: '):\n",
    "        count=count+1\n",
    "print('There were', count, 'subject lines in', fname)"
   ]
  },
  {
   "cell_type": "code",
   "execution_count": null,
   "metadata": {},
   "outputs": [],
   "source": []
  }
 ],
 "metadata": {
  "kernelspec": {
   "display_name": "Python 3",
   "language": "python",
   "name": "python3"
  },
  "language_info": {
   "codemirror_mode": {
    "name": "ipython",
    "version": 3
   },
   "file_extension": ".py",
   "mimetype": "text/x-python",
   "name": "python",
   "nbconvert_exporter": "python",
   "pygments_lexer": "ipython3",
   "version": "3.7.7"
  }
 },
 "nbformat": 4,
 "nbformat_minor": 4
}
