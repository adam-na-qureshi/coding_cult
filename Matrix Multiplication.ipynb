{
 "cells": [
  {
   "cell_type": "markdown",
   "metadata": {},
   "source": [
    "Goal\n",
    "\n",
    "Learn concepts and skills that are important for Data Science/Machine Learning: \n",
    "\n",
    "- Maths: Vector multiplication (Dot product), Matrix multiplication\n",
    "- Coding: `Python` variables, lists, loops, functions, libraries (numpy)\n",
    "\n",
    "- General Data Science: Machine Learning, Neuraal Networks"
   ]
  },
  {
   "cell_type": "markdown",
   "metadata": {},
   "source": [
    "Outline\n",
    "\n",
    "- Number multiplication\n",
    "\n",
    "- Vector multiplication\n",
    "    - Hands-on 1\n",
    "    \n",
    "- Matrix multiplication\n",
    "    - Hands-on 2\n",
    "\n",
    "- Neural networks\n",
    "\n",
    "- Data Science, Machine Learning, Neural Networks"
   ]
  },
  {
   "cell_type": "markdown",
   "metadata": {},
   "source": [
    "### Number Multiplication | Variables\n",
    "\n",
    "Let's start with the \"usual\" multiplication operation that we're all familiar with\n",
    "\n",
    "Multiplying two numbers (scalar)\n",
    "\n",
    "Example: 2 x 3 = 6\n",
    "\n",
    "The same example in Python code:\n"
   ]
  },
  {
   "cell_type": "code",
   "execution_count": 1,
   "metadata": {},
   "outputs": [
    {
     "data": {
      "text/plain": [
       "6"
      ]
     },
     "execution_count": 1,
     "metadata": {},
     "output_type": "execute_result"
    }
   ],
   "source": [
    "2*3"
   ]
  },
  {
   "cell_type": "markdown",
   "metadata": {},
   "source": [
    "The same example with variables"
   ]
  },
  {
   "cell_type": "code",
   "execution_count": 2,
   "metadata": {},
   "outputs": [
    {
     "data": {
      "text/plain": [
       "6"
      ]
     },
     "execution_count": 2,
     "metadata": {},
     "output_type": "execute_result"
    }
   ],
   "source": [
    "a=2\n",
    "b=3\n",
    "a*b"
   ]
  },
  {
   "cell_type": "code",
   "execution_count": 3,
   "metadata": {},
   "outputs": [
    {
     "data": {
      "text/plain": [
       "6"
      ]
     },
     "execution_count": 3,
     "metadata": {},
     "output_type": "execute_result"
    }
   ],
   "source": [
    "a_times_b=a*b\n",
    "a_times_b"
   ]
  },
  {
   "cell_type": "code",
   "execution_count": 5,
   "metadata": {},
   "outputs": [
    {
     "name": "stdout",
     "output_type": "stream",
     "text": [
      "a= 2\n",
      "b= 3\n",
      "a x b = 6\n"
     ]
    }
   ],
   "source": [
    "#Use Python's print function to show a summary\n",
    "\n",
    "print('a=', a)\n",
    "print('b=', b)\n",
    "print(\"a x b =\", a_times_b)"
   ]
  },
  {
   "cell_type": "markdown",
   "metadata": {},
   "source": [
    "### Vector Multiplication (Dot Product)\n",
    "\n",
    "## Maths - Defintions\n",
    "\n",
    "**Vectors**\n",
    "\n",
    "A **vector** is a \"sequence\" of numbers\n",
    "\n",
    "- Example: [2,3]\n",
    "\n",
    "How do we multiple a vector by another vector\n",
    "\n",
    "- Example: how to multiply the vector [2,3] by the vector [4,5]\n",
    "\n",
    "**Vector Multiplication**\n",
    "\n",
    "There are **different** methods for multiplying vectors and each is represented by a different operator/symbol. We are particularly interested in these two methods: \n",
    "\n",
    "- **Element-wise** multiplication\n",
    "\n",
    "[2,3]⊙[4,5] = [2 x 4, 3 x 5] = [8,15]\n",
    "\n",
    "- **Dot Product** ( ⋅ )\n",
    "\n",
    "[2,3] ⋅ [4,5] = (2 x 4) + (3 x 5) = 8 + 15 = 23"
   ]
  },
  {
   "cell_type": "markdown",
   "metadata": {},
   "source": [
    "## Notes\n",
    "\n",
    "- The dot product is the sum of the result of the element-wise multiplication\n",
    "- The dot product is the fundamental operation used in Matrix multiplication\n",
    "\n",
    "### Code - Simple Solution | `Lists`\n",
    "\n",
    "The same Dot Product example in Python code:"
   ]
  },
  {
   "cell_type": "code",
   "execution_count": 7,
   "metadata": {},
   "outputs": [
    {
     "name": "stdout",
     "output_type": "stream",
     "text": [
      "v[0] =  2\n",
      "v[1] =  3\n",
      "v_dot_r = 23\n"
     ]
    }
   ],
   "source": [
    "#A vector can be represented as a list in python\n",
    "\n",
    "v=[2,3]\n",
    "r=[4,5]\n",
    "\n",
    "#We can access the elements of a list by their index\n",
    "# - index 0 is the 1st element\n",
    "# - index 1 is the 2nd element\n",
    "\n",
    "v_dot_r=(v[0] * r[0] + v[1] * r[1])\n",
    "\n",
    "#Show indexing\n",
    "print(\"v[0] = \", v[0])\n",
    "print(\"v[1] = \", v[1])\n",
    "\n",
    "#Print result\n",
    "\n",
    "print(\"v_dot_r =\", v_dot_r)"
   ]
  },
  {
   "cell_type": "markdown",
   "metadata": {},
   "source": [
    "### Code - General Solution | `Loops`"
   ]
  },
  {
   "cell_type": "markdown",
   "metadata": {},
   "source": [
    "The previous solution only works for lists/vectors of size 2. \n",
    "\n",
    "We can use a `for` loop to create a more automated and general solution that works for lists/vectors of any size:"
   ]
  },
  {
   "cell_type": "code",
   "execution_count": 3,
   "metadata": {},
   "outputs": [
    {
     "name": "stdout",
     "output_type": "stream",
     "text": [
      "v = [1, 2, 3]\n",
      "r = [4, 5, 6]\n",
      "-------------------------\n",
      "i = 0\n",
      "v[i] = 1\n",
      "r[i] = 4\n",
      "v_times_r = [4]\n",
      "-------------------------\n",
      "i = 1\n",
      "v[i] = 2\n",
      "r[i] = 5\n",
      "v_times_r = [4, 10]\n",
      "-------------------------\n",
      "i = 2\n",
      "v[i] = 3\n",
      "r[i] = 6\n",
      "v_times_r = [4, 10, 18]\n",
      "-------------------------\n",
      "v_dot_r = 32\n"
     ]
    }
   ],
   "source": [
    "#First, let's test it with the same example as above\n",
    "\n",
    "#v=[2, 3]\n",
    "#r=[4, 5]\n",
    "\n",
    "#Then, we can come back and test it with this other example\n",
    "v=[1, 2, 3]\n",
    "r=[4, 5, 6]\n",
    "\n",
    "#Print v and r to have as reference in the output\n",
    "print('v =', v)\n",
    "print('r =', r)\n",
    "print('-' * 25) #Print a separator\n",
    "\n",
    "#A list to store the result of the element-wise multiplication\n",
    "v_times_r=[]\n",
    "\n",
    "#Use a for loop to iterate through all the indexes/elements\n",
    "#And perform elemtn-wise multiplication, step-by-step \n",
    "\n",
    "for i in range(len(v)):\n",
    "    print('i =', i)\n",
    "    print('v[i] =', v[i])\n",
    "    print('r[i] =', r[i])\n",
    "    v_times_r.append(v[i] * r[i])\n",
    "    print('v_times_r =', v_times_r)\n",
    "    print('-' * 25)\n",
    "\n",
    "#The Dot Product is the sum of the results of the element-wise multiplication \n",
    "v_dot_r=sum(v_times_r)\n",
    "print('v_dot_r =', v_dot_r)"
   ]
  },
  {
   "cell_type": "markdown",
   "metadata": {},
   "source": [
    "### Code - Functional Solution | `Functions`"
   ]
  },
  {
   "cell_type": "markdown",
   "metadata": {},
   "source": [
    "We can define our own **function**"
   ]
  },
  {
   "cell_type": "code",
   "execution_count": 2,
   "metadata": {},
   "outputs": [],
   "source": [
    "def dot_product(v, r):\n",
    "    v_times_r=[]\n",
    "    \n",
    "    for i in range(len(v)):\n",
    "        v_times_r.append(v[i] * r[i])\n",
    "    \n",
    "    v_dot_r=sum(v_times_r)\n",
    "    \n",
    "    return v_dot_r"
   ]
  },
  {
   "cell_type": "code",
   "execution_count": 3,
   "metadata": {},
   "outputs": [
    {
     "data": {
      "text/plain": [
       "23"
      ]
     },
     "execution_count": 3,
     "metadata": {},
     "output_type": "execute_result"
    }
   ],
   "source": [
    "#Example 1\n",
    "v=[2, 3]\n",
    "r=[4, 5]\n",
    "\n",
    "dot_product(v, r)"
   ]
  },
  {
   "cell_type": "code",
   "execution_count": 4,
   "metadata": {},
   "outputs": [
    {
     "data": {
      "text/plain": [
       "6"
      ]
     },
     "execution_count": 4,
     "metadata": {},
     "output_type": "execute_result"
    }
   ],
   "source": [
    "v=[1, 1, 1]\n",
    "r=[2, 2, 2]\n",
    "\n",
    "dot_product(v, r)"
   ]
  },
  {
   "cell_type": "markdown",
   "metadata": {},
   "source": [
    "## Functions:\n",
    "\n",
    "- An important general concept in coding/programming\n",
    "\n",
    "- Defined to and used for performing specific (well-defined) actions that need to be performed multiple times \n",
    "\n",
    "- Should have descriptive/meaningful names"
   ]
  },
  {
   "cell_type": "markdown",
   "metadata": {},
   "source": [
    "### Code - Numpy | `Libraries`"
   ]
  },
  {
   "cell_type": "code",
   "execution_count": 5,
   "metadata": {},
   "outputs": [],
   "source": [
    "#import numpy library\n",
    "import numpy as np"
   ]
  },
  {
   "cell_type": "markdown",
   "metadata": {},
   "source": [
    "In `numpy`, vectors are represented as `array` objects:"
   ]
  },
  {
   "cell_type": "code",
   "execution_count": 6,
   "metadata": {},
   "outputs": [
    {
     "data": {
      "text/plain": [
       "array([2, 3])"
      ]
     },
     "execution_count": 6,
     "metadata": {},
     "output_type": "execute_result"
    }
   ],
   "source": [
    "np.array([2,3])"
   ]
  },
  {
   "cell_type": "markdown",
   "metadata": {},
   "source": [
    "**Element-wise** multiplication of vectors (arrays) in `numpy`:"
   ]
  },
  {
   "cell_type": "code",
   "execution_count": 7,
   "metadata": {},
   "outputs": [
    {
     "data": {
      "text/plain": [
       "array([ 8, 15])"
      ]
     },
     "execution_count": 7,
     "metadata": {},
     "output_type": "execute_result"
    }
   ],
   "source": [
    "np.array([2,3]) * np.array([4,5])"
   ]
  },
  {
   "cell_type": "markdown",
   "metadata": {},
   "source": [
    "**Dot product** of vectors (arrays) with `numpy`'s `dot` function:"
   ]
  },
  {
   "cell_type": "code",
   "execution_count": 8,
   "metadata": {},
   "outputs": [
    {
     "data": {
      "text/plain": [
       "23"
      ]
     },
     "execution_count": 8,
     "metadata": {},
     "output_type": "execute_result"
    }
   ],
   "source": [
    "np.dot(np.array([2,3]), np.array([4,5]))"
   ]
  },
  {
   "cell_type": "markdown",
   "metadata": {},
   "source": [
    "`numpy` documentation:\n",
    "\n",
    "* homepage: https://numpy.org/doc/stable/\n",
    "* `dot` function: https://numpy.org/doc/stable/reference/generated/numpy.dot.html"
   ]
  },
  {
   "cell_type": "markdown",
   "metadata": {},
   "source": [
    "### Hands-On 1: Dot Product\n",
    "\n",
    "Compute the Dot Product of the vectors [0,1,2] and [3,4,5]"
   ]
  },
  {
   "cell_type": "markdown",
   "metadata": {},
   "source": [
    "**Solution for part 1**\n",
    "\n",
    "14"
   ]
  },
  {
   "cell_type": "markdown",
   "metadata": {},
   "source": [
    "**Solutions for part 2**"
   ]
  },
  {
   "cell_type": "code",
   "execution_count": 9,
   "metadata": {},
   "outputs": [
    {
     "data": {
      "text/plain": [
       "14"
      ]
     },
     "execution_count": 9,
     "metadata": {},
     "output_type": "execute_result"
    }
   ],
   "source": [
    "np.dot(np.array([0, 1, 2]), np.array([3, 4, 5]))"
   ]
  },
  {
   "cell_type": "markdown",
   "metadata": {},
   "source": [
    "### Matrix Multiplication\n",
    "\n",
    "## Maths - Definition\n",
    "\n",
    "**Matrix**\n",
    "\n",
    "Above, we saw that a vector is a sequence of numbers (i.e., a 1-dimensional arrangement of numbers)\n",
    "\n",
    "If it helps, you can think of a matrix as  table of numbers with rows and columns (like a table in Excel)\n",
    "\n",
    "Here's an example of a 2x3 matrix (matrix with 2 rows by 3 columns)\n",
    "\n",
    "$\\begin{bmatrix} 1 & 2 & 3 \\\\ 10 & 20 & 30 \\end{bmatrix}$"
   ]
  },
  {
   "cell_type": "markdown",
   "metadata": {},
   "source": [
    "**Matrix Multiplication**\n",
    "\n",
    "Consider the matrices $\\mathbf{X}$ and $\\mathbf{Y}$:\n",
    "\n",
    "$\\mathbf{X} = \\begin{bmatrix} 1 & 2 \\\\ 3 & 4 \\end{bmatrix}$\n",
    "\n",
    "$\\mathbf{Y} = \\begin{bmatrix} 10 & 20 \\\\ 30 & 40 \\end{bmatrix}$\n",
    "\n",
    "Both matrices, $\\mathbf{X}$ and $\\mathbf{Y}$, are 2 x 2 matrices (i.e., matrices with 2 rows by 2 columns).\n",
    "\n",
    "The matrix multiplication $\\mathbf{X} \\mathbf{Y}$ results in another 2 x 2 matrix $\\mathbf{Z}$:\n",
    "\n",
    "$\\mathbf{Z} = \\mathbf{X} \\mathbf{Y}$\n",
    "\n",
    "$\\mathbf{Z} = \\begin{bmatrix} z_{11} & z_{12} \\\\ z_{21} & z_{22} \\end{bmatrix}$\n",
    "\n",
    "$\\begin{bmatrix}\n",
    "    z_{11} & z_{12} \\\\ \n",
    "    z_{21} & z_{22} \n",
    "\\end{bmatrix} = \\begin{bmatrix} \n",
    "                    1 & 2 \\\\ \n",
    "                    3 & 4 \n",
    "                \\end{bmatrix} \n",
    "                \\begin{bmatrix} \n",
    "                    10 & 20 \\\\ \n",
    "                    30 & 40 \n",
    "                \\end{bmatrix}$"
   ]
  },
  {
   "cell_type": "markdown",
   "metadata": {},
   "source": [
    "**Matrix Multiplication process** to calculate each of the elements of **Z**:\n",
    "\n",
    "- The dot product of rows (row vectors) of the first/left matrix by the columns (column vectors) of the second/right matrix)"
   ]
  },
  {
   "cell_type": "markdown",
   "metadata": {},
   "source": [
    "***Step 1*** ($\\color{orange}{z_{11}}$):\n",
    "\n",
    "$\\begin{bmatrix}\n",
    "    \\color{orange}{z_{11}} & z_{12} \\\\ \n",
    "    z_{21} & z_{22} \n",
    "\\end{bmatrix} = \\begin{bmatrix} \n",
    "                    \\color{red}{1} & \\color{red}{2} \\\\ \n",
    "                    3 & 4 \n",
    "                \\end{bmatrix} \n",
    "                \\begin{bmatrix} \n",
    "                    \\color{blue}{10} & 20 \\\\ \n",
    "                    \\color{blue}{30} & 40 \n",
    "                \\end{bmatrix}$\n",
    "\n",
    "$\\color{orange}{z_{11}} \n",
    "    = \\begin{bmatrix} \\color{red}{1} & \\color{red}{2} \\end{bmatrix} \n",
    "      \\begin{bmatrix} \\color{blue}{10} \\\\ \\color{blue}{30} \\end{bmatrix} \n",
    "    = (\\color{red}{1} \\times \\color{blue}{10}) + (\\color{red}{2} \\times \\color{blue}{30}) \n",
    "    = \\color{orange}{70}$"
   ]
  },
  {
   "cell_type": "markdown",
   "metadata": {},
   "source": [
    "***Step 2*** ($\\color{orange}{z_{12}}$):\n",
    "\n",
    "$\\begin{bmatrix}\n",
    "    70 & \\color{orange}{z_{12}} \\\\ \n",
    "    z_{21} & z_{22} \n",
    "\\end{bmatrix} = \\begin{bmatrix} \n",
    "                    \\color{red}{1} & \\color{red}{2} \\\\ \n",
    "                    3 & 4 \n",
    "                \\end{bmatrix} \n",
    "                \\begin{bmatrix} \n",
    "                    10 & \\color{blue}{20} \\\\ \n",
    "                    30 & \\color{blue}{40} \n",
    "                \\end{bmatrix}$\n",
    "\n",
    "$\\color{orange}{z_{12}} \n",
    "    = \\begin{bmatrix} \\color{red}{1} & \\color{red}{2} \\end{bmatrix} \n",
    "      \\begin{bmatrix} \\color{blue}{20} \\\\ \\color{blue}{40} \\end{bmatrix} \n",
    "    = (\\color{red}{1} \\times \\color{blue}{20}) + (\\color{red}{2} \\times \\color{blue}{40}) \n",
    "    = \\color{orange}{100}$"
   ]
  },
  {
   "cell_type": "markdown",
   "metadata": {},
   "source": [
    "***Step 3*** ($\\color{orange}{z_{21}}$):\n",
    "\n",
    "$\\begin{bmatrix}\n",
    "    70 & 100 \\\\ \n",
    "    \\color{orange}{z_{21}} & z_{22} \n",
    "\\end{bmatrix} = \\begin{bmatrix}\n",
    "                    1 & 2 \\\\\n",
    "                    \\color{red}{3} & \\color{red}{4} \n",
    "                \\end{bmatrix} \n",
    "                \\begin{bmatrix} \n",
    "                    \\color{blue}{10} & 20 \\\\ \n",
    "                    \\color{blue}{30} & 40 \n",
    "                \\end{bmatrix}$\n",
    "\n",
    "$\\color{orange}{z_{21}} \n",
    "    = \\begin{bmatrix} \\color{red}{3} & \\color{red}{4} \\end{bmatrix} \n",
    "      \\begin{bmatrix} \\color{blue}{10} \\\\ \\color{blue}{30} \\end{bmatrix} \n",
    "    = (\\color{red}{3} \\times \\color{blue}{10}) + (\\color{red}{4} \\times \\color{blue}{30}) \n",
    "    = \\color{orange}{150}$"
   ]
  },
  {
   "cell_type": "markdown",
   "metadata": {},
   "source": [
    "***Step 4*** ($\\color{orange}{z_{22}}$):\n",
    "\n",
    "$\\begin{bmatrix}\n",
    "    70 & 100 \\\\ \n",
    "    150 & \\color{orange}{z_{22}}  \n",
    "\\end{bmatrix} = \\begin{bmatrix}\n",
    "                    1 & 2 \\\\\n",
    "                    \\color{red}{3} & \\color{red}{4} \n",
    "                \\end{bmatrix} \n",
    "                \\begin{bmatrix} \n",
    "                    10 & \\color{blue}{20} \\\\ \n",
    "                    30 & \\color{blue}{40} \n",
    "                \\end{bmatrix}$\n",
    "\n",
    "$\\color{orange}{z_{22}} \n",
    "    = \\begin{bmatrix} \\color{red}{3} & \\color{red}{4} \\end{bmatrix} \n",
    "      \\begin{bmatrix} \\color{blue}{20} \\\\ \\color{blue}{40} \\end{bmatrix} \n",
    "    = (\\color{red}{3} \\times \\color{blue}{20}) + (\\color{red}{4} \\times \\color{blue}{40}) \n",
    "    = \\color{orange}{220}$\n"
   ]
  },
  {
   "cell_type": "markdown",
   "metadata": {},
   "source": [
    "**Result**\n",
    "\n",
    "$\\mathbf{Z} = \\mathbf{X} \\mathbf{Y} = \\begin{bmatrix} 70 & 100 \\\\ 150 & 220 \\end{bmatrix}$"
   ]
  },
  {
   "cell_type": "markdown",
   "metadata": {},
   "source": [
    "**Summary**\n",
    "\n",
    "$\\mathbf{X} = \\begin{bmatrix} 1 & 2 \\\\ 3 & 4 \\end{bmatrix}$\n",
    "\n",
    "$\\mathbf{Y} = \\begin{bmatrix} 10 & 20 \\\\ 30 & 40 \\end{bmatrix}$\n",
    "\n",
    "$\\mathbf{Z} \n",
    "    = \\mathbf{X} \\mathbf{Y}\n",
    "    = \\begin{bmatrix} 1 & 2 \\\\ 3 & 4 \\end{bmatrix} \n",
    "      \\begin{bmatrix} 10 & 20 \\\\ 30 & 40 \\end{bmatrix}\n",
    "    = \\begin{bmatrix} \n",
    "          (1 \\times 10) + (2 \\times 30) & (1 \\times 20) + (2 \\times 40) \\\\ \n",
    "          (3 \\times 10) + (4 \\times 30) & (3 \\times 20) + (4 \\times 40) \n",
    "      \\end{bmatrix}\n",
    "    = \\begin{bmatrix} 70 & 100 \\\\ 150 & 220 \\end{bmatrix}$"
   ]
  },
  {
   "cell_type": "markdown",
   "metadata": {},
   "source": [
    "**Note**\n",
    "\n",
    "The example above uses \"square\" (2 x 2) matrices. Here is a more general example, with \"rectangular\" matrices:\n",
    "\n",
    "$\\mathbf{Z} (\\color{red}{2} \\times \\color{blue}{4}) = \\mathbf{X} (\\color{red}{2} \\times \\color{green}{3}) \\mathbf{Y} (\\color{green}{3} \\times \\color{blue}{4})$\n",
    "\n",
    "$\\begin{bmatrix}\n",
    "z_{11} & z_{12} & z_{13} & z_{14} \\\\ \n",
    "z_{21} & z_{22} & z_{23} & z_{24} \n",
    "\\end{bmatrix} = \n",
    "    \\begin{bmatrix} \n",
    "    x_{11} & x_{12} & x_{13} \\\\ \n",
    "    x_{21} & x_{22} & x_{23}\n",
    "    \\end{bmatrix} \n",
    "    \\begin{bmatrix} \n",
    "    y_{11} & y_{12} & y_{13} & y_{14} \\\\ \n",
    "    y_{21} & y_{22} & y_{23} & y_{24} \\\\ \n",
    "    y_{31} & y_{32} & y_{33} & y_{34} \n",
    "    \\end{bmatrix}$"
   ]
  },
  {
   "cell_type": "markdown",
   "metadata": {},
   "source": [
    "## Code - `Numpy`\n",
    "\n",
    "In `numpy`, we can represent a matrix as a (2D) array object, and perform matrix multiplication with the `matmul` function."
   ]
  },
  {
   "cell_type": "code",
   "execution_count": 10,
   "metadata": {},
   "outputs": [
    {
     "data": {
      "text/plain": [
       "array([[ 70, 100],\n",
       "       [150, 220]])"
      ]
     },
     "execution_count": 10,
     "metadata": {},
     "output_type": "execute_result"
    }
   ],
   "source": [
    "X = np.array([[1, 2],\n",
    "             [3, 4]])\n",
    "\n",
    "Y = np.array([[10, 20],\n",
    "             [30, 40]])\n",
    "\n",
    "np.matmul(X, Y)"
   ]
  },
  {
   "cell_type": "markdown",
   "metadata": {},
   "source": [
    "`numpy.matmul` documentation: https://numpy.org/doc/stable/reference/generated/numpy.matmul.html\n",
    "\n",
    "`matmul` short for matrix multiplication"
   ]
  },
  {
   "cell_type": "markdown",
   "metadata": {},
   "source": [
    "## Hands-On 2: Matrix Multiplication\n",
    "\n",
    "Given the matrices $\\mathbf{X} = \\begin{bmatrix} 1 & 2 \\\\ 3 & 4 \\end{bmatrix}$ and $\\mathbf{Y} = \\begin{bmatrix} 5 & 6 \\\\ 7 & 0 \\end{bmatrix}$, compute the matrix multiplication $\\mathbf{Z} = \\mathbf{X} \\mathbf{Y}$:\n",
    "\n",
    "1. Manually, with \"pen and paper\" (now)\n",
    "2. With Python code (home)"
   ]
  },
  {
   "cell_type": "markdown",
   "metadata": {},
   "source": [
    "**Solution for Part 1**\n",
    "\n",
    "$\\mathbf{Z} \n",
    "    = \\mathbf{X} \\mathbf{Y}\n",
    "    = \\begin{bmatrix} 1 & 2 \\\\ 3 & 4 \\end{bmatrix} \n",
    "      \\begin{bmatrix} 5 & 6 \\\\ 7 & 0 \\end{bmatrix}\n",
    "    = \\begin{bmatrix} \n",
    "          (1 \\times 5) + (2 \\times 7) & (1 \\times 6) + (2 \\times 0) \\\\ \n",
    "          (3 \\times 5) + (4 \\times 7) & (3 \\times 6) + (4 \\times 0) \n",
    "      \\end{bmatrix}\n",
    "    = \\begin{bmatrix} 19 & 6 \\\\ 43 & 18 \\end{bmatrix}$"
   ]
  },
  {
   "cell_type": "markdown",
   "metadata": {},
   "source": [
    "**Solution for Part 2**"
   ]
  },
  {
   "cell_type": "code",
   "execution_count": 11,
   "metadata": {},
   "outputs": [
    {
     "data": {
      "text/plain": [
       "array([[19,  6],\n",
       "       [43, 18]])"
      ]
     },
     "execution_count": 11,
     "metadata": {},
     "output_type": "execute_result"
    }
   ],
   "source": [
    "X=np.array([[1, 2],\n",
    "            [3, 4]])\n",
    "\n",
    "Y=np.array([[5, 6],\n",
    "            [7, 0]])\n",
    "\n",
    "np.matmul(X, Y)"
   ]
  },
  {
   "cell_type": "markdown",
   "metadata": {},
   "source": [
    "### Neural Networks\n",
    "\n",
    "**Neural Network:**\n",
    "\n",
    "- A map of connected neurons/nodes\n",
    "- Maps input to outputs: `Input -> Neural Network (model) -> Output`\n",
    "- **Value:** Use the model to predict outputs for new inputs (not used in training)\n",
    "\n",
    "Examples of Neural Network **applications**:\n",
    "\n",
    "- Detect objects in an image (digits, people, animals, etc)\n",
    "- Clasify emails as spam or not spam\n",
    "- Detect signs of disease in medical images (e.g., X-rays)\n",
    "- Time series prediction (sales, stocks, weather)\n",
    "\n",
    "Each node implement a 2-step process to map inputs to an output\n",
    "\n",
    "- **Step 1:** Compute the weighted sum of the inputs to the node\n",
    "    - using **matrix multiplication (dot product)** as represented in the figure below"
   ]
  },
  {
   "cell_type": "markdown",
   "metadata": {},
   "source": [
    "![Image explaining Matrix Multiplications in Neural Networks](https://i.imgur.com/dOWpIGC.png)"
   ]
  },
  {
   "cell_type": "markdown",
   "metadata": {},
   "source": [
    "* **Step 2:** Apply an **activation function** to the result of step 1 to determine the node's output\n",
    "    * Updates in the figure above to consider the activation function\n",
    "        * $h_1 = f(w_{11} x_1 + w_{11} x_1)$\n",
    "        * $y = g(z_1 h_1 + z_2 h_2)$"
   ]
  },
  {
   "cell_type": "markdown",
   "metadata": {},
   "source": [
    "**Notes**\n",
    "\n",
    "- **Activation functions** are usually **non-linear functions** that allow the model to capture more complex patterns in the data\n",
    "- Neural networks use a \"divide and conquer\" strategy, with each node solving one small component of the larger problem\n",
    "    - An individual node may have a meaningful interpretation\n",
    "- **Backpropagation:** Method used to backpropagate the errors during training to find the best weights for the neural network\n",
    "- **Deep learning networks:** Neural networks with multiple hidden layers"
   ]
  },
  {
   "cell_type": "markdown",
   "metadata": {},
   "source": [
    "### Data Science, Machine Learning, Neural Networks\n",
    "\n",
    "**Goal**: Find **data insights** that are **valuable** and **actionable**\n",
    "\n",
    "**Process:**\n",
    "\n",
    "* `Question > Data > Analysis/Modeling > Insight > Action` -- More classic, human driven (classic statistics)\n",
    "* `Data > Question > Analysis/Modeling > Insight > Action` -- More modern, data driven (machine learning, neural networks)\n"
   ]
  },
  {
   "cell_type": "code",
   "execution_count": null,
   "metadata": {},
   "outputs": [],
   "source": []
  }
 ],
 "metadata": {
  "kernelspec": {
   "display_name": "Python 3",
   "language": "python",
   "name": "python3"
  },
  "language_info": {
   "codemirror_mode": {
    "name": "ipython",
    "version": 3
   },
   "file_extension": ".py",
   "mimetype": "text/x-python",
   "name": "python",
   "nbconvert_exporter": "python",
   "pygments_lexer": "ipython3",
   "version": "3.7.7"
  }
 },
 "nbformat": 4,
 "nbformat_minor": 4
}
