{
 "cells": [
  {
   "cell_type": "code",
   "execution_count": 1,
   "metadata": {},
   "outputs": [
    {
     "name": "stdout",
     "output_type": "stream",
     "text": [
      "5\n",
      "4\n",
      "3\n",
      "2\n",
      "1\n",
      "Blastoff!\n"
     ]
    }
   ],
   "source": [
    "n=5\n",
    "while n>0:\n",
    "    print(n)\n",
    "    n=n-1\n",
    "print('Blastoff!')"
   ]
  },
  {
   "cell_type": "markdown",
   "metadata": {},
   "source": [
    "Type of flow is called a *loop* because the third step (n=n-1) loops back to the first step of n>0.\n",
    "\n",
    "Iterations - the body of the loop\n",
    "\n",
    "the above loop had 5 iterations because the body of the loop was run through 5 times.\n",
    "\n",
    "Iteration vairable: the variable that changes each time the loop executes and controls when the loop finishes. If there is no iteration variable, then the loop wil repeat forever, resulting in an *infinite loop*."
   ]
  },
  {
   "cell_type": "code",
   "execution_count": 4,
   "metadata": {},
   "outputs": [
    {
     "name": "stdout",
     "output_type": "stream",
     "text": [
      "> ooooooo\n",
      "ooooooo\n",
      "> hello everyone\n",
      "hello everyone\n",
      "> AAAAAAAAAAAAAAAAAAAAAAAAAAAAAAAAAHHHHHHHHHHHHHHHHHHHHHHHHHHHHHHHHHHH\n",
      "AAAAAAAAAAAAAAAAAAAAAAAAAAAAAAAAAHHHHHHHHHHHHHHHHHHHHHHHHHHHHHHHHHHH\n",
      "> OOOOOOOOOOOOOOOOOOOOEEEEEAAAAAAAAAAAAAAAAHHHHHHHHH\n",
      "OOOOOOOOOOOOOOOOOOOOEEEEEAAAAAAAAAAAAAAAAHHHHHHHHH\n",
      "> done\n",
      "Done!\n"
     ]
    }
   ],
   "source": [
    "#The loop condtion is always going to be True, so the loop runs repeatedly until the break statement is met. \n",
    "#The input wil continue to echo whatever the user inputs until the specified 'done' is written, signaling the break.\n",
    "while True:\n",
    "    line=input('> ')\n",
    "    if line=='done':\n",
    "        break\n",
    "    print(line)\n",
    "print('Done!')"
   ]
  },
  {
   "cell_type": "code",
   "execution_count": 5,
   "metadata": {},
   "outputs": [
    {
     "name": "stdout",
     "output_type": "stream",
     "text": [
      "> wawawa\n",
      "wawawa\n",
      "> #python\n",
      "> oho it didn't print that one very cool\n",
      "oho it didn't print that one very cool\n",
      "> done\n",
      "Done!\n"
     ]
    }
   ],
   "source": [
    "#for this program the continue statement is used in that something with a hashtag is not printed\n",
    "#break statement is still the same as above\n",
    "while True:\n",
    "    line=input('> ')\n",
    "    if line[0]=='#':\n",
    "        continue\n",
    "    if line=='done':\n",
    "        break\n",
    "    print(line)\n",
    "print('Done!')"
   ]
  },
  {
   "cell_type": "code",
   "execution_count": 6,
   "metadata": {},
   "outputs": [
    {
     "name": "stdout",
     "output_type": "stream",
     "text": [
      "Happy New Year: Joseph\n",
      "Happy New Year: Glenn\n",
      "Happy New Year: Sally\n",
      "Done!\n"
     ]
    }
   ],
   "source": [
    "#While statements are considered to be the infinite loops, For statements are the definite loops\n",
    "friends=['Joseph', 'Glenn', 'Sally']\n",
    "for friend in friends:\n",
    "    print('Happy New Year:', friend)\n",
    "print('Done!')"
   ]
  },
  {
   "cell_type": "code",
   "execution_count": 1,
   "metadata": {},
   "outputs": [
    {
     "name": "stdout",
     "output_type": "stream",
     "text": [
      "Count:  6\n"
     ]
    }
   ],
   "source": [
    "count=0\n",
    "for itervar in [3, 41, 12, 9, 74, 15]:\n",
    "    count=count+1\n",
    "print('Count: ', count)"
   ]
  },
  {
   "cell_type": "code",
   "execution_count": 2,
   "metadata": {},
   "outputs": [
    {
     "name": "stdout",
     "output_type": "stream",
     "text": [
      "Total:  154\n"
     ]
    }
   ],
   "source": [
    "total=0\n",
    "for itervar in [3, 41, 12, 9, 74, 15]:\n",
    "    total=total+itervar\n",
    "print('Total: ', total)"
   ]
  },
  {
   "cell_type": "code",
   "execution_count": 3,
   "metadata": {},
   "outputs": [
    {
     "name": "stdout",
     "output_type": "stream",
     "text": [
      "Before: None\n",
      "Loop: 3 15\n",
      "Loop: 41 15\n",
      "Loop: 12 15\n",
      "Loop: 9 15\n",
      "Loop: 74 15\n",
      "Loop: 15 15\n",
      "Largest: 15\n"
     ]
    }
   ],
   "source": [
    "largest=None\n",
    "print('Before:', largest)\n",
    "for intervar in [3, 41, 12, 9, 74, 15]:\n",
    "    if largest is None or itervar > largest:\n",
    "        largest=itervar\n",
    "    print('Loop:', intervar, largest)\n",
    "print('Largest:', largest)"
   ]
  },
  {
   "cell_type": "code",
   "execution_count": null,
   "metadata": {},
   "outputs": [],
   "source": []
  }
 ],
 "metadata": {
  "kernelspec": {
   "display_name": "Python 3",
   "language": "python",
   "name": "python3"
  },
  "language_info": {
   "codemirror_mode": {
    "name": "ipython",
    "version": 3
   },
   "file_extension": ".py",
   "mimetype": "text/x-python",
   "name": "python",
   "nbconvert_exporter": "python",
   "pygments_lexer": "ipython3",
   "version": "3.7.7"
  }
 },
 "nbformat": 4,
 "nbformat_minor": 2
}
