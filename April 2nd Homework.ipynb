{
 "cells": [
  {
   "cell_type": "markdown",
   "metadata": {},
   "source": [
    "# Assignment: plots, bar charts, and filtering\n",
    "\n",
    "This assignment uses a dataset of all NYC restaurant inspection results from Jan. 1, 2019 - Aug. 30, 2019.  Download the file `DOHMH_New_York_City_Restaurant_Inspection_Results.csv` from our Dropbox. \n",
    "\n",
    "There are a lot of columns in this dataset.  To show them all when displaying the dataset, use the following code beforehand (once per notebook):\n",
    "`pd.set_option('display.max_columns', None)`\n",
    "\n",
    "All plots should have an appropriate title and axes labels.\n",
    "\n",
    "1.  Plot a histogram to visualize the distribution of the inspection scores.  You should experiment with the number of bins to find a visualization that shows all major features of the distribution.  What do you notice about the distribution, and how do you think that fits with how restaurants are inspected?\n",
    "\n",
    "2.  Plot a bar chart of the distribution of boroughs.  In which boroughs are the most/least restaurant inspections?\n",
    "\n",
    "3.  Find the mean score for inspections made in January and the mean score for inspections made in July.  From these computations, does the mean score seem to depend on the month?  Why do you think this might be?\n",
    "\n",
    "4.  Make a bar chart of the top 15 cuisine types in the dataset.\n",
    "\n",
    "5.  How many different cuisine types are there in the dataset?  And what is the most common street?"
   ]
  },
  {
   "cell_type": "code",
   "execution_count": 1,
   "metadata": {},
   "outputs": [],
   "source": [
    "import pandas as pd"
   ]
  },
  {
   "cell_type": "code",
   "execution_count": 28,
   "metadata": {},
   "outputs": [],
   "source": [
    "import matplotlib.pyplot as plt"
   ]
  },
  {
   "cell_type": "code",
   "execution_count": 3,
   "metadata": {},
   "outputs": [],
   "source": [
    "nyc=pd.read_csv('DOHMH.csv')"
   ]
  },
  {
   "cell_type": "code",
   "execution_count": 4,
   "metadata": {},
   "outputs": [
    {
     "data": {
      "text/html": [
       "<div>\n",
       "<style scoped>\n",
       "    .dataframe tbody tr th:only-of-type {\n",
       "        vertical-align: middle;\n",
       "    }\n",
       "\n",
       "    .dataframe tbody tr th {\n",
       "        vertical-align: top;\n",
       "    }\n",
       "\n",
       "    .dataframe thead th {\n",
       "        text-align: right;\n",
       "    }\n",
       "</style>\n",
       "<table border=\"1\" class=\"dataframe\">\n",
       "  <thead>\n",
       "    <tr style=\"text-align: right;\">\n",
       "      <th></th>\n",
       "      <th>CAMIS</th>\n",
       "      <th>DBA</th>\n",
       "      <th>BORO</th>\n",
       "      <th>BUILDING</th>\n",
       "      <th>STREET</th>\n",
       "      <th>ZIPCODE</th>\n",
       "      <th>PHONE</th>\n",
       "      <th>CUISINE DESCRIPTION</th>\n",
       "      <th>INSPECTION DATE</th>\n",
       "      <th>ACTION</th>\n",
       "      <th>...</th>\n",
       "      <th>RECORD DATE</th>\n",
       "      <th>INSPECTION TYPE</th>\n",
       "      <th>Latitude</th>\n",
       "      <th>Longitude</th>\n",
       "      <th>Community Board</th>\n",
       "      <th>Council District</th>\n",
       "      <th>Census Tract</th>\n",
       "      <th>BIN</th>\n",
       "      <th>BBL</th>\n",
       "      <th>NTA</th>\n",
       "    </tr>\n",
       "  </thead>\n",
       "  <tbody>\n",
       "    <tr>\n",
       "      <th>0</th>\n",
       "      <td>50074557</td>\n",
       "      <td>FISH VILLAGE</td>\n",
       "      <td>Queens</td>\n",
       "      <td>2007</td>\n",
       "      <td>127TH ST</td>\n",
       "      <td>11356.0</td>\n",
       "      <td>6468307299</td>\n",
       "      <td>Chinese</td>\n",
       "      <td>01/02/2019</td>\n",
       "      <td>Violations were cited in the following area(s).</td>\n",
       "      <td>...</td>\n",
       "      <td>08/30/2019</td>\n",
       "      <td>Cycle Inspection / Initial Inspection</td>\n",
       "      <td>40.781449</td>\n",
       "      <td>-73.841413</td>\n",
       "      <td>407.0</td>\n",
       "      <td>19.0</td>\n",
       "      <td>91900.0</td>\n",
       "      <td>4099328.0</td>\n",
       "      <td>4.041720e+09</td>\n",
       "      <td>QN23</td>\n",
       "    </tr>\n",
       "    <tr>\n",
       "      <th>1</th>\n",
       "      <td>50086382</td>\n",
       "      <td>IL POSTO</td>\n",
       "      <td>Brooklyn</td>\n",
       "      <td>7409</td>\n",
       "      <td>AVENUE U</td>\n",
       "      <td>11234.0</td>\n",
       "      <td>7182414317</td>\n",
       "      <td>Italian</td>\n",
       "      <td>01/02/2019</td>\n",
       "      <td>Violations were cited in the following area(s).</td>\n",
       "      <td>...</td>\n",
       "      <td>08/30/2019</td>\n",
       "      <td>Pre-permit (Operational) / Initial Inspection</td>\n",
       "      <td>40.621321</td>\n",
       "      <td>-73.905154</td>\n",
       "      <td>318.0</td>\n",
       "      <td>46.0</td>\n",
       "      <td>69602.0</td>\n",
       "      <td>3237484.0</td>\n",
       "      <td>3.084150e+09</td>\n",
       "      <td>BK45</td>\n",
       "    </tr>\n",
       "    <tr>\n",
       "      <th>2</th>\n",
       "      <td>41258823</td>\n",
       "      <td>LITTLE CAESARS</td>\n",
       "      <td>Bronx</td>\n",
       "      <td>1888</td>\n",
       "      <td>WESTCHESTER AVENUE</td>\n",
       "      <td>10472.0</td>\n",
       "      <td>3476571722</td>\n",
       "      <td>Pizza</td>\n",
       "      <td>01/02/2019</td>\n",
       "      <td>Violations were cited in the following area(s).</td>\n",
       "      <td>...</td>\n",
       "      <td>08/30/2019</td>\n",
       "      <td>Cycle Inspection / Re-inspection</td>\n",
       "      <td>40.832928</td>\n",
       "      <td>-73.861964</td>\n",
       "      <td>209.0</td>\n",
       "      <td>18.0</td>\n",
       "      <td>7200.0</td>\n",
       "      <td>NaN</td>\n",
       "      <td>2.000000e+00</td>\n",
       "      <td>BX55</td>\n",
       "    </tr>\n",
       "    <tr>\n",
       "      <th>3</th>\n",
       "      <td>50002053</td>\n",
       "      <td>THE LOCAL</td>\n",
       "      <td>Queens</td>\n",
       "      <td>13-02</td>\n",
       "      <td>44TH AVENUE</td>\n",
       "      <td>11101.0</td>\n",
       "      <td>3477385251</td>\n",
       "      <td>American</td>\n",
       "      <td>01/02/2019</td>\n",
       "      <td>Violations were cited in the following area(s).</td>\n",
       "      <td>...</td>\n",
       "      <td>08/30/2019</td>\n",
       "      <td>Cycle Inspection / Initial Inspection</td>\n",
       "      <td>40.749644</td>\n",
       "      <td>-73.947487</td>\n",
       "      <td>402.0</td>\n",
       "      <td>26.0</td>\n",
       "      <td>1900.0</td>\n",
       "      <td>4005221.0</td>\n",
       "      <td>4.004460e+09</td>\n",
       "      <td>QN31</td>\n",
       "    </tr>\n",
       "    <tr>\n",
       "      <th>4</th>\n",
       "      <td>50055374</td>\n",
       "      <td>FLORA BAR</td>\n",
       "      <td>Manhattan</td>\n",
       "      <td>945</td>\n",
       "      <td>MADISON AVE</td>\n",
       "      <td>10021.0</td>\n",
       "      <td>6317038780</td>\n",
       "      <td>American</td>\n",
       "      <td>01/02/2019</td>\n",
       "      <td>Violations were cited in the following area(s).</td>\n",
       "      <td>...</td>\n",
       "      <td>08/30/2019</td>\n",
       "      <td>Cycle Inspection / Re-inspection</td>\n",
       "      <td>40.773450</td>\n",
       "      <td>-73.964199</td>\n",
       "      <td>108.0</td>\n",
       "      <td>4.0</td>\n",
       "      <td>13000.0</td>\n",
       "      <td>1041666.0</td>\n",
       "      <td>1.013890e+09</td>\n",
       "      <td>MN40</td>\n",
       "    </tr>\n",
       "    <tr>\n",
       "      <th>...</th>\n",
       "      <td>...</td>\n",
       "      <td>...</td>\n",
       "      <td>...</td>\n",
       "      <td>...</td>\n",
       "      <td>...</td>\n",
       "      <td>...</td>\n",
       "      <td>...</td>\n",
       "      <td>...</td>\n",
       "      <td>...</td>\n",
       "      <td>...</td>\n",
       "      <td>...</td>\n",
       "      <td>...</td>\n",
       "      <td>...</td>\n",
       "      <td>...</td>\n",
       "      <td>...</td>\n",
       "      <td>...</td>\n",
       "      <td>...</td>\n",
       "      <td>...</td>\n",
       "      <td>...</td>\n",
       "      <td>...</td>\n",
       "      <td>...</td>\n",
       "    </tr>\n",
       "    <tr>\n",
       "      <th>110359</th>\n",
       "      <td>50059509</td>\n",
       "      <td>BARN JOO</td>\n",
       "      <td>Manhattan</td>\n",
       "      <td>35</td>\n",
       "      <td>UNION SQ W</td>\n",
       "      <td>10003.0</td>\n",
       "      <td>6463989663</td>\n",
       "      <td>Korean</td>\n",
       "      <td>08/28/2019</td>\n",
       "      <td>Violations were cited in the following area(s).</td>\n",
       "      <td>...</td>\n",
       "      <td>08/30/2019</td>\n",
       "      <td>Cycle Inspection / Re-inspection</td>\n",
       "      <td>40.736758</td>\n",
       "      <td>-73.990600</td>\n",
       "      <td>105.0</td>\n",
       "      <td>2.0</td>\n",
       "      <td>5200.0</td>\n",
       "      <td>1016086.0</td>\n",
       "      <td>1.008440e+09</td>\n",
       "      <td>MN13</td>\n",
       "    </tr>\n",
       "    <tr>\n",
       "      <th>110360</th>\n",
       "      <td>40585479</td>\n",
       "      <td>CASANOVA RESTAURANT</td>\n",
       "      <td>Brooklyn</td>\n",
       "      <td>338</td>\n",
       "      <td>MC GUINESS BOULEVARD</td>\n",
       "      <td>11222.0</td>\n",
       "      <td>7183890990</td>\n",
       "      <td>Italian</td>\n",
       "      <td>08/28/2019</td>\n",
       "      <td>Violations were cited in the following area(s).</td>\n",
       "      <td>...</td>\n",
       "      <td>08/30/2019</td>\n",
       "      <td>Cycle Inspection / Re-inspection</td>\n",
       "      <td>40.734089</td>\n",
       "      <td>-73.952276</td>\n",
       "      <td>301.0</td>\n",
       "      <td>33.0</td>\n",
       "      <td>57900.0</td>\n",
       "      <td>3064086.0</td>\n",
       "      <td>3.025140e+09</td>\n",
       "      <td>BK76</td>\n",
       "    </tr>\n",
       "    <tr>\n",
       "      <th>110361</th>\n",
       "      <td>50001315</td>\n",
       "      <td>FRESH &amp; CO.</td>\n",
       "      <td>Manhattan</td>\n",
       "      <td>127</td>\n",
       "      <td>E. 60TH ST</td>\n",
       "      <td>10022.0</td>\n",
       "      <td>2126637374</td>\n",
       "      <td>Sandwiches/Salads/Mixed Buffet</td>\n",
       "      <td>08/28/2019</td>\n",
       "      <td>Violations were cited in the following area(s).</td>\n",
       "      <td>...</td>\n",
       "      <td>08/30/2019</td>\n",
       "      <td>Cycle Inspection / Initial Inspection</td>\n",
       "      <td>40.763093</td>\n",
       "      <td>-73.968280</td>\n",
       "      <td>108.0</td>\n",
       "      <td>4.0</td>\n",
       "      <td>11402.0</td>\n",
       "      <td>1041918.0</td>\n",
       "      <td>1.013950e+09</td>\n",
       "      <td>MN40</td>\n",
       "    </tr>\n",
       "    <tr>\n",
       "      <th>110362</th>\n",
       "      <td>50047124</td>\n",
       "      <td>NIX</td>\n",
       "      <td>Manhattan</td>\n",
       "      <td>72</td>\n",
       "      <td>UNIVERSITY PL</td>\n",
       "      <td>10003.0</td>\n",
       "      <td>2124989393</td>\n",
       "      <td>Vegetarian</td>\n",
       "      <td>08/28/2019</td>\n",
       "      <td>Violations were cited in the following area(s).</td>\n",
       "      <td>...</td>\n",
       "      <td>08/30/2019</td>\n",
       "      <td>Cycle Inspection / Initial Inspection</td>\n",
       "      <td>40.733124</td>\n",
       "      <td>-73.993483</td>\n",
       "      <td>102.0</td>\n",
       "      <td>2.0</td>\n",
       "      <td>6100.0</td>\n",
       "      <td>1009262.0</td>\n",
       "      <td>1.005680e+09</td>\n",
       "      <td>MN23</td>\n",
       "    </tr>\n",
       "    <tr>\n",
       "      <th>110363</th>\n",
       "      <td>50094803</td>\n",
       "      <td>MEZBANI SWEETS &amp; RESTAURANT</td>\n",
       "      <td>Brooklyn</td>\n",
       "      <td>473</td>\n",
       "      <td>MCDONALD AVE</td>\n",
       "      <td>11218.0</td>\n",
       "      <td>6462627206</td>\n",
       "      <td>Bangladeshi</td>\n",
       "      <td>08/28/2019</td>\n",
       "      <td>Establishment Closed by DOHMH.  Violations wer...</td>\n",
       "      <td>...</td>\n",
       "      <td>08/30/2019</td>\n",
       "      <td>Pre-permit (Operational) / Compliance Inspection</td>\n",
       "      <td>40.642413</td>\n",
       "      <td>-73.979356</td>\n",
       "      <td>312.0</td>\n",
       "      <td>39.0</td>\n",
       "      <td>48600.0</td>\n",
       "      <td>3125299.0</td>\n",
       "      <td>3.053530e+09</td>\n",
       "      <td>BK41</td>\n",
       "    </tr>\n",
       "  </tbody>\n",
       "</table>\n",
       "<p>110364 rows × 26 columns</p>\n",
       "</div>"
      ],
      "text/plain": [
       "           CAMIS                          DBA       BORO BUILDING  \\\n",
       "0       50074557                 FISH VILLAGE     Queens     2007   \n",
       "1       50086382                     IL POSTO   Brooklyn     7409   \n",
       "2       41258823               LITTLE CAESARS      Bronx     1888   \n",
       "3       50002053                    THE LOCAL     Queens    13-02   \n",
       "4       50055374                    FLORA BAR  Manhattan      945   \n",
       "...          ...                          ...        ...      ...   \n",
       "110359  50059509                     BARN JOO  Manhattan       35   \n",
       "110360  40585479          CASANOVA RESTAURANT   Brooklyn      338   \n",
       "110361  50001315                  FRESH & CO.  Manhattan      127   \n",
       "110362  50047124                          NIX  Manhattan       72   \n",
       "110363  50094803  MEZBANI SWEETS & RESTAURANT   Brooklyn      473   \n",
       "\n",
       "                      STREET  ZIPCODE       PHONE  \\\n",
       "0                   127TH ST  11356.0  6468307299   \n",
       "1                   AVENUE U  11234.0  7182414317   \n",
       "2         WESTCHESTER AVENUE  10472.0  3476571722   \n",
       "3                44TH AVENUE  11101.0  3477385251   \n",
       "4                MADISON AVE  10021.0  6317038780   \n",
       "...                      ...      ...         ...   \n",
       "110359            UNION SQ W  10003.0  6463989663   \n",
       "110360  MC GUINESS BOULEVARD  11222.0  7183890990   \n",
       "110361            E. 60TH ST  10022.0  2126637374   \n",
       "110362         UNIVERSITY PL  10003.0  2124989393   \n",
       "110363          MCDONALD AVE  11218.0  6462627206   \n",
       "\n",
       "                   CUISINE DESCRIPTION INSPECTION DATE  \\\n",
       "0                              Chinese      01/02/2019   \n",
       "1                              Italian      01/02/2019   \n",
       "2                                Pizza      01/02/2019   \n",
       "3                             American      01/02/2019   \n",
       "4                             American      01/02/2019   \n",
       "...                                ...             ...   \n",
       "110359                          Korean      08/28/2019   \n",
       "110360                         Italian      08/28/2019   \n",
       "110361  Sandwiches/Salads/Mixed Buffet      08/28/2019   \n",
       "110362                      Vegetarian      08/28/2019   \n",
       "110363                     Bangladeshi      08/28/2019   \n",
       "\n",
       "                                                   ACTION  ... RECORD DATE  \\\n",
       "0         Violations were cited in the following area(s).  ...  08/30/2019   \n",
       "1         Violations were cited in the following area(s).  ...  08/30/2019   \n",
       "2         Violations were cited in the following area(s).  ...  08/30/2019   \n",
       "3         Violations were cited in the following area(s).  ...  08/30/2019   \n",
       "4         Violations were cited in the following area(s).  ...  08/30/2019   \n",
       "...                                                   ...  ...         ...   \n",
       "110359    Violations were cited in the following area(s).  ...  08/30/2019   \n",
       "110360    Violations were cited in the following area(s).  ...  08/30/2019   \n",
       "110361    Violations were cited in the following area(s).  ...  08/30/2019   \n",
       "110362    Violations were cited in the following area(s).  ...  08/30/2019   \n",
       "110363  Establishment Closed by DOHMH.  Violations wer...  ...  08/30/2019   \n",
       "\n",
       "                                         INSPECTION TYPE   Latitude  \\\n",
       "0                  Cycle Inspection / Initial Inspection  40.781449   \n",
       "1          Pre-permit (Operational) / Initial Inspection  40.621321   \n",
       "2                       Cycle Inspection / Re-inspection  40.832928   \n",
       "3                  Cycle Inspection / Initial Inspection  40.749644   \n",
       "4                       Cycle Inspection / Re-inspection  40.773450   \n",
       "...                                                  ...        ...   \n",
       "110359                  Cycle Inspection / Re-inspection  40.736758   \n",
       "110360                  Cycle Inspection / Re-inspection  40.734089   \n",
       "110361             Cycle Inspection / Initial Inspection  40.763093   \n",
       "110362             Cycle Inspection / Initial Inspection  40.733124   \n",
       "110363  Pre-permit (Operational) / Compliance Inspection  40.642413   \n",
       "\n",
       "        Longitude Community Board Council District Census Tract        BIN  \\\n",
       "0      -73.841413           407.0             19.0      91900.0  4099328.0   \n",
       "1      -73.905154           318.0             46.0      69602.0  3237484.0   \n",
       "2      -73.861964           209.0             18.0       7200.0        NaN   \n",
       "3      -73.947487           402.0             26.0       1900.0  4005221.0   \n",
       "4      -73.964199           108.0              4.0      13000.0  1041666.0   \n",
       "...           ...             ...              ...          ...        ...   \n",
       "110359 -73.990600           105.0              2.0       5200.0  1016086.0   \n",
       "110360 -73.952276           301.0             33.0      57900.0  3064086.0   \n",
       "110361 -73.968280           108.0              4.0      11402.0  1041918.0   \n",
       "110362 -73.993483           102.0              2.0       6100.0  1009262.0   \n",
       "110363 -73.979356           312.0             39.0      48600.0  3125299.0   \n",
       "\n",
       "                 BBL   NTA  \n",
       "0       4.041720e+09  QN23  \n",
       "1       3.084150e+09  BK45  \n",
       "2       2.000000e+00  BX55  \n",
       "3       4.004460e+09  QN31  \n",
       "4       1.013890e+09  MN40  \n",
       "...              ...   ...  \n",
       "110359  1.008440e+09  MN13  \n",
       "110360  3.025140e+09  BK76  \n",
       "110361  1.013950e+09  MN40  \n",
       "110362  1.005680e+09  MN23  \n",
       "110363  3.053530e+09  BK41  \n",
       "\n",
       "[110364 rows x 26 columns]"
      ]
     },
     "execution_count": 4,
     "metadata": {},
     "output_type": "execute_result"
    }
   ],
   "source": [
    "nyc"
   ]
  },
  {
   "cell_type": "code",
   "execution_count": 5,
   "metadata": {},
   "outputs": [],
   "source": [
    "pd.set_option('display.max_columns', None)"
   ]
  },
  {
   "cell_type": "code",
   "execution_count": 6,
   "metadata": {},
   "outputs": [
    {
     "data": {
      "text/plain": [
       "0           Violations were cited in the following area(s).\n",
       "1           Violations were cited in the following area(s).\n",
       "2           Violations were cited in the following area(s).\n",
       "3           Violations were cited in the following area(s).\n",
       "4           Violations were cited in the following area(s).\n",
       "                                ...                        \n",
       "110359      Violations were cited in the following area(s).\n",
       "110360      Violations were cited in the following area(s).\n",
       "110361      Violations were cited in the following area(s).\n",
       "110362      Violations were cited in the following area(s).\n",
       "110363    Establishment Closed by DOHMH.  Violations wer...\n",
       "Name: ACTION, Length: 110364, dtype: object"
      ]
     },
     "execution_count": 6,
     "metadata": {},
     "output_type": "execute_result"
    }
   ],
   "source": [
    "nyc['ACTION']"
   ]
  },
  {
   "cell_type": "code",
   "execution_count": 7,
   "metadata": {},
   "outputs": [
    {
     "data": {
      "text/html": [
       "<div>\n",
       "<style scoped>\n",
       "    .dataframe tbody tr th:only-of-type {\n",
       "        vertical-align: middle;\n",
       "    }\n",
       "\n",
       "    .dataframe tbody tr th {\n",
       "        vertical-align: top;\n",
       "    }\n",
       "\n",
       "    .dataframe thead th {\n",
       "        text-align: right;\n",
       "    }\n",
       "</style>\n",
       "<table border=\"1\" class=\"dataframe\">\n",
       "  <thead>\n",
       "    <tr style=\"text-align: right;\">\n",
       "      <th></th>\n",
       "      <th>CAMIS</th>\n",
       "      <th>DBA</th>\n",
       "      <th>BORO</th>\n",
       "      <th>BUILDING</th>\n",
       "      <th>STREET</th>\n",
       "      <th>ZIPCODE</th>\n",
       "      <th>PHONE</th>\n",
       "      <th>CUISINE DESCRIPTION</th>\n",
       "      <th>INSPECTION DATE</th>\n",
       "      <th>ACTION</th>\n",
       "      <th>VIOLATION CODE</th>\n",
       "      <th>VIOLATION DESCRIPTION</th>\n",
       "      <th>CRITICAL FLAG</th>\n",
       "      <th>SCORE</th>\n",
       "      <th>GRADE</th>\n",
       "      <th>GRADE DATE</th>\n",
       "      <th>RECORD DATE</th>\n",
       "      <th>INSPECTION TYPE</th>\n",
       "      <th>Latitude</th>\n",
       "      <th>Longitude</th>\n",
       "      <th>Community Board</th>\n",
       "      <th>Council District</th>\n",
       "      <th>Census Tract</th>\n",
       "      <th>BIN</th>\n",
       "      <th>BBL</th>\n",
       "      <th>NTA</th>\n",
       "    </tr>\n",
       "  </thead>\n",
       "  <tbody>\n",
       "    <tr>\n",
       "      <th>0</th>\n",
       "      <td>50074557</td>\n",
       "      <td>FISH VILLAGE</td>\n",
       "      <td>Queens</td>\n",
       "      <td>2007</td>\n",
       "      <td>127TH ST</td>\n",
       "      <td>11356.0</td>\n",
       "      <td>6468307299</td>\n",
       "      <td>Chinese</td>\n",
       "      <td>01/02/2019</td>\n",
       "      <td>Violations were cited in the following area(s).</td>\n",
       "      <td>08C</td>\n",
       "      <td>Pesticide use not in accordance with label or ...</td>\n",
       "      <td>N</td>\n",
       "      <td>22.0</td>\n",
       "      <td>NaN</td>\n",
       "      <td>NaN</td>\n",
       "      <td>08/30/2019</td>\n",
       "      <td>Cycle Inspection / Initial Inspection</td>\n",
       "      <td>40.781449</td>\n",
       "      <td>-73.841413</td>\n",
       "      <td>407.0</td>\n",
       "      <td>19.0</td>\n",
       "      <td>91900.0</td>\n",
       "      <td>4099328.0</td>\n",
       "      <td>4.041720e+09</td>\n",
       "      <td>QN23</td>\n",
       "    </tr>\n",
       "    <tr>\n",
       "      <th>1</th>\n",
       "      <td>50086382</td>\n",
       "      <td>IL POSTO</td>\n",
       "      <td>Brooklyn</td>\n",
       "      <td>7409</td>\n",
       "      <td>AVENUE U</td>\n",
       "      <td>11234.0</td>\n",
       "      <td>7182414317</td>\n",
       "      <td>Italian</td>\n",
       "      <td>01/02/2019</td>\n",
       "      <td>Violations were cited in the following area(s).</td>\n",
       "      <td>08A</td>\n",
       "      <td>Facility not vermin proof. Harborage or condit...</td>\n",
       "      <td>N</td>\n",
       "      <td>29.0</td>\n",
       "      <td>NaN</td>\n",
       "      <td>NaN</td>\n",
       "      <td>08/30/2019</td>\n",
       "      <td>Pre-permit (Operational) / Initial Inspection</td>\n",
       "      <td>40.621321</td>\n",
       "      <td>-73.905154</td>\n",
       "      <td>318.0</td>\n",
       "      <td>46.0</td>\n",
       "      <td>69602.0</td>\n",
       "      <td>3237484.0</td>\n",
       "      <td>3.084150e+09</td>\n",
       "      <td>BK45</td>\n",
       "    </tr>\n",
       "    <tr>\n",
       "      <th>2</th>\n",
       "      <td>41258823</td>\n",
       "      <td>LITTLE CAESARS</td>\n",
       "      <td>Bronx</td>\n",
       "      <td>1888</td>\n",
       "      <td>WESTCHESTER AVENUE</td>\n",
       "      <td>10472.0</td>\n",
       "      <td>3476571722</td>\n",
       "      <td>Pizza</td>\n",
       "      <td>01/02/2019</td>\n",
       "      <td>Violations were cited in the following area(s).</td>\n",
       "      <td>10F</td>\n",
       "      <td>Non-food contact surface improperly constructe...</td>\n",
       "      <td>N</td>\n",
       "      <td>4.0</td>\n",
       "      <td>A</td>\n",
       "      <td>01/02/2019</td>\n",
       "      <td>08/30/2019</td>\n",
       "      <td>Cycle Inspection / Re-inspection</td>\n",
       "      <td>40.832928</td>\n",
       "      <td>-73.861964</td>\n",
       "      <td>209.0</td>\n",
       "      <td>18.0</td>\n",
       "      <td>7200.0</td>\n",
       "      <td>NaN</td>\n",
       "      <td>2.000000e+00</td>\n",
       "      <td>BX55</td>\n",
       "    </tr>\n",
       "    <tr>\n",
       "      <th>3</th>\n",
       "      <td>50002053</td>\n",
       "      <td>THE LOCAL</td>\n",
       "      <td>Queens</td>\n",
       "      <td>13-02</td>\n",
       "      <td>44TH AVENUE</td>\n",
       "      <td>11101.0</td>\n",
       "      <td>3477385251</td>\n",
       "      <td>American</td>\n",
       "      <td>01/02/2019</td>\n",
       "      <td>Violations were cited in the following area(s).</td>\n",
       "      <td>06D</td>\n",
       "      <td>Food contact surface not properly washed, rins...</td>\n",
       "      <td>Y</td>\n",
       "      <td>7.0</td>\n",
       "      <td>A</td>\n",
       "      <td>01/02/2019</td>\n",
       "      <td>08/30/2019</td>\n",
       "      <td>Cycle Inspection / Initial Inspection</td>\n",
       "      <td>40.749644</td>\n",
       "      <td>-73.947487</td>\n",
       "      <td>402.0</td>\n",
       "      <td>26.0</td>\n",
       "      <td>1900.0</td>\n",
       "      <td>4005221.0</td>\n",
       "      <td>4.004460e+09</td>\n",
       "      <td>QN31</td>\n",
       "    </tr>\n",
       "    <tr>\n",
       "      <th>4</th>\n",
       "      <td>50055374</td>\n",
       "      <td>FLORA BAR</td>\n",
       "      <td>Manhattan</td>\n",
       "      <td>945</td>\n",
       "      <td>MADISON AVE</td>\n",
       "      <td>10021.0</td>\n",
       "      <td>6317038780</td>\n",
       "      <td>American</td>\n",
       "      <td>01/02/2019</td>\n",
       "      <td>Violations were cited in the following area(s).</td>\n",
       "      <td>04N</td>\n",
       "      <td>Filth flies or food/refuse/sewage-associated (...</td>\n",
       "      <td>Y</td>\n",
       "      <td>11.0</td>\n",
       "      <td>A</td>\n",
       "      <td>01/02/2019</td>\n",
       "      <td>08/30/2019</td>\n",
       "      <td>Cycle Inspection / Re-inspection</td>\n",
       "      <td>40.773450</td>\n",
       "      <td>-73.964199</td>\n",
       "      <td>108.0</td>\n",
       "      <td>4.0</td>\n",
       "      <td>13000.0</td>\n",
       "      <td>1041666.0</td>\n",
       "      <td>1.013890e+09</td>\n",
       "      <td>MN40</td>\n",
       "    </tr>\n",
       "    <tr>\n",
       "      <th>...</th>\n",
       "      <td>...</td>\n",
       "      <td>...</td>\n",
       "      <td>...</td>\n",
       "      <td>...</td>\n",
       "      <td>...</td>\n",
       "      <td>...</td>\n",
       "      <td>...</td>\n",
       "      <td>...</td>\n",
       "      <td>...</td>\n",
       "      <td>...</td>\n",
       "      <td>...</td>\n",
       "      <td>...</td>\n",
       "      <td>...</td>\n",
       "      <td>...</td>\n",
       "      <td>...</td>\n",
       "      <td>...</td>\n",
       "      <td>...</td>\n",
       "      <td>...</td>\n",
       "      <td>...</td>\n",
       "      <td>...</td>\n",
       "      <td>...</td>\n",
       "      <td>...</td>\n",
       "      <td>...</td>\n",
       "      <td>...</td>\n",
       "      <td>...</td>\n",
       "      <td>...</td>\n",
       "    </tr>\n",
       "    <tr>\n",
       "      <th>110359</th>\n",
       "      <td>50059509</td>\n",
       "      <td>BARN JOO</td>\n",
       "      <td>Manhattan</td>\n",
       "      <td>35</td>\n",
       "      <td>UNION SQ W</td>\n",
       "      <td>10003.0</td>\n",
       "      <td>6463989663</td>\n",
       "      <td>Korean</td>\n",
       "      <td>08/28/2019</td>\n",
       "      <td>Violations were cited in the following area(s).</td>\n",
       "      <td>04N</td>\n",
       "      <td>Filth flies or food/refuse/sewage-associated (...</td>\n",
       "      <td>Y</td>\n",
       "      <td>26.0</td>\n",
       "      <td>Z</td>\n",
       "      <td>08/28/2019</td>\n",
       "      <td>08/30/2019</td>\n",
       "      <td>Cycle Inspection / Re-inspection</td>\n",
       "      <td>40.736758</td>\n",
       "      <td>-73.990600</td>\n",
       "      <td>105.0</td>\n",
       "      <td>2.0</td>\n",
       "      <td>5200.0</td>\n",
       "      <td>1016086.0</td>\n",
       "      <td>1.008440e+09</td>\n",
       "      <td>MN13</td>\n",
       "    </tr>\n",
       "    <tr>\n",
       "      <th>110360</th>\n",
       "      <td>40585479</td>\n",
       "      <td>CASANOVA RESTAURANT</td>\n",
       "      <td>Brooklyn</td>\n",
       "      <td>338</td>\n",
       "      <td>MC GUINESS BOULEVARD</td>\n",
       "      <td>11222.0</td>\n",
       "      <td>7183890990</td>\n",
       "      <td>Italian</td>\n",
       "      <td>08/28/2019</td>\n",
       "      <td>Violations were cited in the following area(s).</td>\n",
       "      <td>06D</td>\n",
       "      <td>Food contact surface not properly washed, rins...</td>\n",
       "      <td>Y</td>\n",
       "      <td>20.0</td>\n",
       "      <td>Z</td>\n",
       "      <td>08/28/2019</td>\n",
       "      <td>08/30/2019</td>\n",
       "      <td>Cycle Inspection / Re-inspection</td>\n",
       "      <td>40.734089</td>\n",
       "      <td>-73.952276</td>\n",
       "      <td>301.0</td>\n",
       "      <td>33.0</td>\n",
       "      <td>57900.0</td>\n",
       "      <td>3064086.0</td>\n",
       "      <td>3.025140e+09</td>\n",
       "      <td>BK76</td>\n",
       "    </tr>\n",
       "    <tr>\n",
       "      <th>110361</th>\n",
       "      <td>50001315</td>\n",
       "      <td>FRESH &amp; CO.</td>\n",
       "      <td>Manhattan</td>\n",
       "      <td>127</td>\n",
       "      <td>E. 60TH ST</td>\n",
       "      <td>10022.0</td>\n",
       "      <td>2126637374</td>\n",
       "      <td>Sandwiches/Salads/Mixed Buffet</td>\n",
       "      <td>08/28/2019</td>\n",
       "      <td>Violations were cited in the following area(s).</td>\n",
       "      <td>02H</td>\n",
       "      <td>Food not cooled by an approved method whereby ...</td>\n",
       "      <td>Y</td>\n",
       "      <td>23.0</td>\n",
       "      <td>NaN</td>\n",
       "      <td>NaN</td>\n",
       "      <td>08/30/2019</td>\n",
       "      <td>Cycle Inspection / Initial Inspection</td>\n",
       "      <td>40.763093</td>\n",
       "      <td>-73.968280</td>\n",
       "      <td>108.0</td>\n",
       "      <td>4.0</td>\n",
       "      <td>11402.0</td>\n",
       "      <td>1041918.0</td>\n",
       "      <td>1.013950e+09</td>\n",
       "      <td>MN40</td>\n",
       "    </tr>\n",
       "    <tr>\n",
       "      <th>110362</th>\n",
       "      <td>50047124</td>\n",
       "      <td>NIX</td>\n",
       "      <td>Manhattan</td>\n",
       "      <td>72</td>\n",
       "      <td>UNIVERSITY PL</td>\n",
       "      <td>10003.0</td>\n",
       "      <td>2124989393</td>\n",
       "      <td>Vegetarian</td>\n",
       "      <td>08/28/2019</td>\n",
       "      <td>Violations were cited in the following area(s).</td>\n",
       "      <td>04H</td>\n",
       "      <td>Raw, cooked or prepared food is adulterated, c...</td>\n",
       "      <td>Y</td>\n",
       "      <td>12.0</td>\n",
       "      <td>A</td>\n",
       "      <td>08/28/2019</td>\n",
       "      <td>08/30/2019</td>\n",
       "      <td>Cycle Inspection / Initial Inspection</td>\n",
       "      <td>40.733124</td>\n",
       "      <td>-73.993483</td>\n",
       "      <td>102.0</td>\n",
       "      <td>2.0</td>\n",
       "      <td>6100.0</td>\n",
       "      <td>1009262.0</td>\n",
       "      <td>1.005680e+09</td>\n",
       "      <td>MN23</td>\n",
       "    </tr>\n",
       "    <tr>\n",
       "      <th>110363</th>\n",
       "      <td>50094803</td>\n",
       "      <td>MEZBANI SWEETS &amp; RESTAURANT</td>\n",
       "      <td>Brooklyn</td>\n",
       "      <td>473</td>\n",
       "      <td>MCDONALD AVE</td>\n",
       "      <td>11218.0</td>\n",
       "      <td>6462627206</td>\n",
       "      <td>Bangladeshi</td>\n",
       "      <td>08/28/2019</td>\n",
       "      <td>Establishment Closed by DOHMH.  Violations wer...</td>\n",
       "      <td>02H</td>\n",
       "      <td>Food not cooled by an approved method whereby ...</td>\n",
       "      <td>Y</td>\n",
       "      <td>83.0</td>\n",
       "      <td>NaN</td>\n",
       "      <td>NaN</td>\n",
       "      <td>08/30/2019</td>\n",
       "      <td>Pre-permit (Operational) / Compliance Inspection</td>\n",
       "      <td>40.642413</td>\n",
       "      <td>-73.979356</td>\n",
       "      <td>312.0</td>\n",
       "      <td>39.0</td>\n",
       "      <td>48600.0</td>\n",
       "      <td>3125299.0</td>\n",
       "      <td>3.053530e+09</td>\n",
       "      <td>BK41</td>\n",
       "    </tr>\n",
       "  </tbody>\n",
       "</table>\n",
       "<p>110364 rows × 26 columns</p>\n",
       "</div>"
      ],
      "text/plain": [
       "           CAMIS                          DBA       BORO BUILDING  \\\n",
       "0       50074557                 FISH VILLAGE     Queens     2007   \n",
       "1       50086382                     IL POSTO   Brooklyn     7409   \n",
       "2       41258823               LITTLE CAESARS      Bronx     1888   \n",
       "3       50002053                    THE LOCAL     Queens    13-02   \n",
       "4       50055374                    FLORA BAR  Manhattan      945   \n",
       "...          ...                          ...        ...      ...   \n",
       "110359  50059509                     BARN JOO  Manhattan       35   \n",
       "110360  40585479          CASANOVA RESTAURANT   Brooklyn      338   \n",
       "110361  50001315                  FRESH & CO.  Manhattan      127   \n",
       "110362  50047124                          NIX  Manhattan       72   \n",
       "110363  50094803  MEZBANI SWEETS & RESTAURANT   Brooklyn      473   \n",
       "\n",
       "                      STREET  ZIPCODE       PHONE  \\\n",
       "0                   127TH ST  11356.0  6468307299   \n",
       "1                   AVENUE U  11234.0  7182414317   \n",
       "2         WESTCHESTER AVENUE  10472.0  3476571722   \n",
       "3                44TH AVENUE  11101.0  3477385251   \n",
       "4                MADISON AVE  10021.0  6317038780   \n",
       "...                      ...      ...         ...   \n",
       "110359            UNION SQ W  10003.0  6463989663   \n",
       "110360  MC GUINESS BOULEVARD  11222.0  7183890990   \n",
       "110361            E. 60TH ST  10022.0  2126637374   \n",
       "110362         UNIVERSITY PL  10003.0  2124989393   \n",
       "110363          MCDONALD AVE  11218.0  6462627206   \n",
       "\n",
       "                   CUISINE DESCRIPTION INSPECTION DATE  \\\n",
       "0                              Chinese      01/02/2019   \n",
       "1                              Italian      01/02/2019   \n",
       "2                                Pizza      01/02/2019   \n",
       "3                             American      01/02/2019   \n",
       "4                             American      01/02/2019   \n",
       "...                                ...             ...   \n",
       "110359                          Korean      08/28/2019   \n",
       "110360                         Italian      08/28/2019   \n",
       "110361  Sandwiches/Salads/Mixed Buffet      08/28/2019   \n",
       "110362                      Vegetarian      08/28/2019   \n",
       "110363                     Bangladeshi      08/28/2019   \n",
       "\n",
       "                                                   ACTION VIOLATION CODE  \\\n",
       "0         Violations were cited in the following area(s).            08C   \n",
       "1         Violations were cited in the following area(s).            08A   \n",
       "2         Violations were cited in the following area(s).            10F   \n",
       "3         Violations were cited in the following area(s).            06D   \n",
       "4         Violations were cited in the following area(s).            04N   \n",
       "...                                                   ...            ...   \n",
       "110359    Violations were cited in the following area(s).            04N   \n",
       "110360    Violations were cited in the following area(s).            06D   \n",
       "110361    Violations were cited in the following area(s).            02H   \n",
       "110362    Violations were cited in the following area(s).            04H   \n",
       "110363  Establishment Closed by DOHMH.  Violations wer...            02H   \n",
       "\n",
       "                                    VIOLATION DESCRIPTION CRITICAL FLAG  \\\n",
       "0       Pesticide use not in accordance with label or ...             N   \n",
       "1       Facility not vermin proof. Harborage or condit...             N   \n",
       "2       Non-food contact surface improperly constructe...             N   \n",
       "3       Food contact surface not properly washed, rins...             Y   \n",
       "4       Filth flies or food/refuse/sewage-associated (...             Y   \n",
       "...                                                   ...           ...   \n",
       "110359  Filth flies or food/refuse/sewage-associated (...             Y   \n",
       "110360  Food contact surface not properly washed, rins...             Y   \n",
       "110361  Food not cooled by an approved method whereby ...             Y   \n",
       "110362  Raw, cooked or prepared food is adulterated, c...             Y   \n",
       "110363  Food not cooled by an approved method whereby ...             Y   \n",
       "\n",
       "        SCORE GRADE  GRADE DATE RECORD DATE  \\\n",
       "0        22.0   NaN         NaN  08/30/2019   \n",
       "1        29.0   NaN         NaN  08/30/2019   \n",
       "2         4.0     A  01/02/2019  08/30/2019   \n",
       "3         7.0     A  01/02/2019  08/30/2019   \n",
       "4        11.0     A  01/02/2019  08/30/2019   \n",
       "...       ...   ...         ...         ...   \n",
       "110359   26.0     Z  08/28/2019  08/30/2019   \n",
       "110360   20.0     Z  08/28/2019  08/30/2019   \n",
       "110361   23.0   NaN         NaN  08/30/2019   \n",
       "110362   12.0     A  08/28/2019  08/30/2019   \n",
       "110363   83.0   NaN         NaN  08/30/2019   \n",
       "\n",
       "                                         INSPECTION TYPE   Latitude  \\\n",
       "0                  Cycle Inspection / Initial Inspection  40.781449   \n",
       "1          Pre-permit (Operational) / Initial Inspection  40.621321   \n",
       "2                       Cycle Inspection / Re-inspection  40.832928   \n",
       "3                  Cycle Inspection / Initial Inspection  40.749644   \n",
       "4                       Cycle Inspection / Re-inspection  40.773450   \n",
       "...                                                  ...        ...   \n",
       "110359                  Cycle Inspection / Re-inspection  40.736758   \n",
       "110360                  Cycle Inspection / Re-inspection  40.734089   \n",
       "110361             Cycle Inspection / Initial Inspection  40.763093   \n",
       "110362             Cycle Inspection / Initial Inspection  40.733124   \n",
       "110363  Pre-permit (Operational) / Compliance Inspection  40.642413   \n",
       "\n",
       "        Longitude  Community Board  Council District  Census Tract        BIN  \\\n",
       "0      -73.841413            407.0              19.0       91900.0  4099328.0   \n",
       "1      -73.905154            318.0              46.0       69602.0  3237484.0   \n",
       "2      -73.861964            209.0              18.0        7200.0        NaN   \n",
       "3      -73.947487            402.0              26.0        1900.0  4005221.0   \n",
       "4      -73.964199            108.0               4.0       13000.0  1041666.0   \n",
       "...           ...              ...               ...           ...        ...   \n",
       "110359 -73.990600            105.0               2.0        5200.0  1016086.0   \n",
       "110360 -73.952276            301.0              33.0       57900.0  3064086.0   \n",
       "110361 -73.968280            108.0               4.0       11402.0  1041918.0   \n",
       "110362 -73.993483            102.0               2.0        6100.0  1009262.0   \n",
       "110363 -73.979356            312.0              39.0       48600.0  3125299.0   \n",
       "\n",
       "                 BBL   NTA  \n",
       "0       4.041720e+09  QN23  \n",
       "1       3.084150e+09  BK45  \n",
       "2       2.000000e+00  BX55  \n",
       "3       4.004460e+09  QN31  \n",
       "4       1.013890e+09  MN40  \n",
       "...              ...   ...  \n",
       "110359  1.008440e+09  MN13  \n",
       "110360  3.025140e+09  BK76  \n",
       "110361  1.013950e+09  MN40  \n",
       "110362  1.005680e+09  MN23  \n",
       "110363  3.053530e+09  BK41  \n",
       "\n",
       "[110364 rows x 26 columns]"
      ]
     },
     "execution_count": 7,
     "metadata": {},
     "output_type": "execute_result"
    }
   ],
   "source": [
    "nyc"
   ]
  },
  {
   "cell_type": "code",
   "execution_count": 8,
   "metadata": {},
   "outputs": [
    {
     "data": {
      "text/plain": [
       "0         22.0\n",
       "1         29.0\n",
       "2          4.0\n",
       "3          7.0\n",
       "4         11.0\n",
       "          ... \n",
       "110359    26.0\n",
       "110360    20.0\n",
       "110361    23.0\n",
       "110362    12.0\n",
       "110363    83.0\n",
       "Name: SCORE, Length: 110364, dtype: float64"
      ]
     },
     "execution_count": 8,
     "metadata": {},
     "output_type": "execute_result"
    }
   ],
   "source": [
    "nyc['SCORE']"
   ]
  },
  {
   "cell_type": "code",
   "execution_count": 9,
   "metadata": {},
   "outputs": [
    {
     "data": {
      "text/plain": [
       "12.0     10691\n",
       "13.0      8543\n",
       "10.0      5540\n",
       "11.0      5237\n",
       "9.0       4895\n",
       "         ...  \n",
       "140.0        8\n",
       "132.0        8\n",
       "136.0        7\n",
       "106.0        6\n",
       "116.0        5\n",
       "Name: SCORE, Length: 126, dtype: int64"
      ]
     },
     "execution_count": 9,
     "metadata": {},
     "output_type": "execute_result"
    }
   ],
   "source": [
    "nyc['SCORE'].value_counts()"
   ]
  },
  {
   "cell_type": "code",
   "execution_count": 10,
   "metadata": {},
   "outputs": [
    {
     "data": {
      "text/plain": [
       "<matplotlib.axes._subplots.AxesSubplot at 0x267194bc508>"
      ]
     },
     "execution_count": 10,
     "metadata": {},
     "output_type": "execute_result"
    },
    {
     "data": {
      "image/png": "[encoded data removed]",
      "text/plain": [
       "<Figure size 432x288 with 1 Axes>"
      ]
     },
     "metadata": {
      "needs_background": "light"
     },
     "output_type": "display_data"
    }
   ],
   "source": [
    "nyc['SCORE'].plot(kind='hist')"
   ]
  },
  {
   "cell_type": "code",
   "execution_count": 11,
   "metadata": {},
   "outputs": [
    {
     "data": {
      "text/plain": [
       "12.0     10691\n",
       "13.0      8543\n",
       "10.0      5540\n",
       "11.0      5237\n",
       "9.0       4895\n",
       "         ...  \n",
       "140.0        8\n",
       "132.0        8\n",
       "136.0        7\n",
       "106.0        6\n",
       "116.0        5\n",
       "Name: SCORE, Length: 126, dtype: int64"
      ]
     },
     "execution_count": 11,
     "metadata": {},
     "output_type": "execute_result"
    }
   ],
   "source": [
    "nyc_score=nyc['SCORE'].value_counts()\n",
    "nyc_score"
   ]
  },
  {
   "cell_type": "code",
   "execution_count": 12,
   "metadata": {},
   "outputs": [
    {
     "data": {
      "text/plain": [
       "(array([80., 15., 12.,  2.,  6.,  5.,  0.,  1.,  0.,  2.,  1.,  0.,  0.,\n",
       "         0.,  0.,  1.,  0.,  0.,  0.,  1.]),\n",
       " array([5.00000e+00, 5.39300e+02, 1.07360e+03, 1.60790e+03, 2.14220e+03,\n",
       "        2.67650e+03, 3.21080e+03, 3.74510e+03, 4.27940e+03, 4.81370e+03,\n",
       "        5.34800e+03, 5.88230e+03, 6.41660e+03, 6.95090e+03, 7.48520e+03,\n",
       "        8.01950e+03, 8.55380e+03, 9.08810e+03, 9.62240e+03, 1.01567e+04,\n",
       "        1.06910e+04]),\n",
       " <a list of 20 Patch objects>)"
      ]
     },
     "execution_count": 12,
     "metadata": {},
     "output_type": "execute_result"
    },
    {
     "data": {
      "image/png": "[encoded data removed]",
      "text/plain": [
       "<Figure size 432x288 with 1 Axes>"
      ]
     },
     "metadata": {
      "needs_background": "light"
     },
     "output_type": "display_data"
    }
   ],
   "source": [
    "plt.hist(nyc_score, bins=20)"
   ]
  },
  {
   "cell_type": "code",
   "execution_count": 13,
   "metadata": {},
   "outputs": [
    {
     "data": {
      "text/plain": [
       "(array([95., 14., 11.,  1.,  2.,  1.,  0.,  1.,  0.,  1.]),\n",
       " array([5.0000e+00, 1.0736e+03, 2.1422e+03, 3.2108e+03, 4.2794e+03,\n",
       "        5.3480e+03, 6.4166e+03, 7.4852e+03, 8.5538e+03, 9.6224e+03,\n",
       "        1.0691e+04]),\n",
       " <a list of 10 Patch objects>)"
      ]
     },
     "execution_count": 13,
     "metadata": {},
     "output_type": "execute_result"
    },
    {
     "data": {
      "image/png": "[encoded data removed]",
      "text/plain": [
       "<Figure size 432x288 with 1 Axes>"
      ]
     },
     "metadata": {
      "needs_background": "light"
     },
     "output_type": "display_data"
    }
   ],
   "source": [
    "plt.hist(nyc_score, bins=10)"
   ]
  },
  {
   "cell_type": "code",
   "execution_count": 14,
   "metadata": {},
   "outputs": [
    {
     "data": {
      "text/plain": [
       "0         22.0\n",
       "1         29.0\n",
       "2          4.0\n",
       "3          7.0\n",
       "4         11.0\n",
       "          ... \n",
       "110359    26.0\n",
       "110360    20.0\n",
       "110361    23.0\n",
       "110362    12.0\n",
       "110363    83.0\n",
       "Name: SCORE, Length: 110364, dtype: float64"
      ]
     },
     "execution_count": 14,
     "metadata": {},
     "output_type": "execute_result"
    }
   ],
   "source": [
    "nyc['SCORE']"
   ]
  },
  {
   "cell_type": "code",
   "execution_count": 15,
   "metadata": {},
   "outputs": [],
   "source": [
    "scores=nyc['SCORE']"
   ]
  },
  {
   "cell_type": "code",
   "execution_count": 29,
   "metadata": {},
   "outputs": [
    {
     "name": "stderr",
     "output_type": "stream",
     "text": [
      "C:\\Users\\adamq\\Anaconda3\\lib\\site-packages\\numpy\\lib\\histograms.py:839: RuntimeWarning: invalid value encountered in greater_equal\n",
      "  keep = (tmp_a >= first_edge)\n",
      "C:\\Users\\adamq\\Anaconda3\\lib\\site-packages\\numpy\\lib\\histograms.py:840: RuntimeWarning: invalid value encountered in less_equal\n",
      "  keep &= (tmp_a <= last_edge)\n"
     ]
    },
    {
     "data": {
      "text/plain": [
       "Text(0, 0.5, 'Frequency of Scores')"
      ]
     },
     "execution_count": 29,
     "metadata": {},
     "output_type": "execute_result"
    },
    {
     "data": {
      "image/png": "[encoded data removed]",
      "text/plain": [
       "<Figure size 432x288 with 1 Axes>"
      ]
     },
     "metadata": {
      "needs_background": "light"
     },
     "output_type": "display_data"
    }
   ],
   "source": [
    "plt.hist(scores, bins=15)\n",
    "plt.xlabel('Scores of Inspection')\n",
    "plt.ylabel('Frequency of Scores')"
   ]
  },
  {
   "cell_type": "markdown",
   "metadata": {},
   "source": [
    "Histograms are a bit confusing... \n",
    "- Am i able to make spaces between the bars? \n",
    "- How come my scores go up to past the highest value the data has \n",
    "- AHHHHHHHHHH"
   ]
  },
  {
   "cell_type": "code",
   "execution_count": 17,
   "metadata": {},
   "outputs": [
    {
     "data": {
      "text/plain": [
       "2869464"
      ]
     },
     "execution_count": 17,
     "metadata": {},
     "output_type": "execute_result"
    }
   ],
   "source": [
    "nyc.size"
   ]
  },
  {
   "cell_type": "code",
   "execution_count": 18,
   "metadata": {},
   "outputs": [
    {
     "data": {
      "text/plain": [
       "(110364, 26)"
      ]
     },
     "execution_count": 18,
     "metadata": {},
     "output_type": "execute_result"
    }
   ],
   "source": [
    "nyc.shape"
   ]
  },
  {
   "cell_type": "code",
   "execution_count": 19,
   "metadata": {},
   "outputs": [
    {
     "data": {
      "text/plain": [
       "<matplotlib.axes._subplots.AxesSubplot at 0x26719e68948>"
      ]
     },
     "execution_count": 19,
     "metadata": {},
     "output_type": "execute_result"
    },
    {
     "data": {
      "image/png": "[encoded data removed]",
      "text/plain": [
       "<Figure size 432x288 with 1 Axes>"
      ]
     },
     "metadata": {
      "needs_background": "light"
     },
     "output_type": "display_data"
    }
   ],
   "source": [
    "nyc['BORO'].value_counts().plot(kind='bar')"
   ]
  },
  {
   "cell_type": "code",
   "execution_count": 20,
   "metadata": {},
   "outputs": [],
   "source": [
    "#Manhattan has by and large the highest inspections while Staten Island has the lowest "
   ]
  },
  {
   "cell_type": "code",
   "execution_count": 21,
   "metadata": {
    "scrolled": false
   },
   "outputs": [
    {
     "data": {
      "text/plain": [
       "0         01/02/2019\n",
       "1         01/02/2019\n",
       "2         01/02/2019\n",
       "3         01/02/2019\n",
       "4         01/02/2019\n",
       "             ...    \n",
       "110359    08/28/2019\n",
       "110360    08/28/2019\n",
       "110361    08/28/2019\n",
       "110362    08/28/2019\n",
       "110363    08/28/2019\n",
       "Name: INSPECTION DATE, Length: 110364, dtype: object"
      ]
     },
     "execution_count": 21,
     "metadata": {},
     "output_type": "execute_result"
    }
   ],
   "source": [
    "nyc['INSPECTION DATE']"
   ]
  },
  {
   "cell_type": "code",
   "execution_count": 22,
   "metadata": {},
   "outputs": [
    {
     "data": {
      "text/html": [
       "<div>\n",
       "<style scoped>\n",
       "    .dataframe tbody tr th:only-of-type {\n",
       "        vertical-align: middle;\n",
       "    }\n",
       "\n",
       "    .dataframe tbody tr th {\n",
       "        vertical-align: top;\n",
       "    }\n",
       "\n",
       "    .dataframe thead th {\n",
       "        text-align: right;\n",
       "    }\n",
       "</style>\n",
       "<table border=\"1\" class=\"dataframe\">\n",
       "  <thead>\n",
       "    <tr style=\"text-align: right;\">\n",
       "      <th></th>\n",
       "      <th>INSPECTION DATE</th>\n",
       "      <th>SCORE</th>\n",
       "    </tr>\n",
       "  </thead>\n",
       "  <tbody>\n",
       "    <tr>\n",
       "      <th>0</th>\n",
       "      <td>01/02/2019</td>\n",
       "      <td>22.0</td>\n",
       "    </tr>\n",
       "    <tr>\n",
       "      <th>1</th>\n",
       "      <td>01/02/2019</td>\n",
       "      <td>29.0</td>\n",
       "    </tr>\n",
       "    <tr>\n",
       "      <th>2</th>\n",
       "      <td>01/02/2019</td>\n",
       "      <td>4.0</td>\n",
       "    </tr>\n",
       "    <tr>\n",
       "      <th>3</th>\n",
       "      <td>01/02/2019</td>\n",
       "      <td>7.0</td>\n",
       "    </tr>\n",
       "    <tr>\n",
       "      <th>4</th>\n",
       "      <td>01/02/2019</td>\n",
       "      <td>11.0</td>\n",
       "    </tr>\n",
       "    <tr>\n",
       "      <th>...</th>\n",
       "      <td>...</td>\n",
       "      <td>...</td>\n",
       "    </tr>\n",
       "    <tr>\n",
       "      <th>110359</th>\n",
       "      <td>08/28/2019</td>\n",
       "      <td>26.0</td>\n",
       "    </tr>\n",
       "    <tr>\n",
       "      <th>110360</th>\n",
       "      <td>08/28/2019</td>\n",
       "      <td>20.0</td>\n",
       "    </tr>\n",
       "    <tr>\n",
       "      <th>110361</th>\n",
       "      <td>08/28/2019</td>\n",
       "      <td>23.0</td>\n",
       "    </tr>\n",
       "    <tr>\n",
       "      <th>110362</th>\n",
       "      <td>08/28/2019</td>\n",
       "      <td>12.0</td>\n",
       "    </tr>\n",
       "    <tr>\n",
       "      <th>110363</th>\n",
       "      <td>08/28/2019</td>\n",
       "      <td>83.0</td>\n",
       "    </tr>\n",
       "  </tbody>\n",
       "</table>\n",
       "<p>110364 rows × 2 columns</p>\n",
       "</div>"
      ],
      "text/plain": [
       "       INSPECTION DATE  SCORE\n",
       "0           01/02/2019   22.0\n",
       "1           01/02/2019   29.0\n",
       "2           01/02/2019    4.0\n",
       "3           01/02/2019    7.0\n",
       "4           01/02/2019   11.0\n",
       "...                ...    ...\n",
       "110359      08/28/2019   26.0\n",
       "110360      08/28/2019   20.0\n",
       "110361      08/28/2019   23.0\n",
       "110362      08/28/2019   12.0\n",
       "110363      08/28/2019   83.0\n",
       "\n",
       "[110364 rows x 2 columns]"
      ]
     },
     "execution_count": 22,
     "metadata": {},
     "output_type": "execute_result"
    }
   ],
   "source": [
    "nyc[['INSPECTION DATE', 'SCORE']]"
   ]
  },
  {
   "cell_type": "code",
   "execution_count": 23,
   "metadata": {},
   "outputs": [
    {
     "data": {
      "text/plain": [
       "dtype('O')"
      ]
     },
     "execution_count": 23,
     "metadata": {},
     "output_type": "execute_result"
    }
   ],
   "source": [
    "nyc['INSPECTION DATE'].dtypes"
   ]
  },
  {
   "cell_type": "code",
   "execution_count": 24,
   "metadata": {},
   "outputs": [],
   "source": [
    "nyc['INSPECTION DATE']=pd.to_datetime(nyc[\"INSPECTION DATE\"])"
   ]
  },
  {
   "cell_type": "code",
   "execution_count": 25,
   "metadata": {},
   "outputs": [
    {
     "data": {
      "text/plain": [
       "dtype('<M8[ns]')"
      ]
     },
     "execution_count": 25,
     "metadata": {},
     "output_type": "execute_result"
    }
   ],
   "source": [
    "nyc['INSPECTION DATE'].dtypes"
   ]
  },
  {
   "cell_type": "code",
   "execution_count": 26,
   "metadata": {},
   "outputs": [
    {
     "data": {
      "text/plain": [
       "CAMIS                             int64\n",
       "DBA                              object\n",
       "BORO                             object\n",
       "BUILDING                         object\n",
       "STREET                           object\n",
       "ZIPCODE                         float64\n",
       "PHONE                            object\n",
       "CUISINE DESCRIPTION              object\n",
       "INSPECTION DATE          datetime64[ns]\n",
       "ACTION                           object\n",
       "VIOLATION CODE                   object\n",
       "VIOLATION DESCRIPTION            object\n",
       "CRITICAL FLAG                    object\n",
       "SCORE                           float64\n",
       "GRADE                            object\n",
       "GRADE DATE                       object\n",
       "RECORD DATE                      object\n",
       "INSPECTION TYPE                  object\n",
       "Latitude                        float64\n",
       "Longitude                       float64\n",
       "Community Board                 float64\n",
       "Council District                float64\n",
       "Census Tract                    float64\n",
       "BIN                             float64\n",
       "BBL                             float64\n",
       "NTA                              object\n",
       "dtype: object"
      ]
     },
     "execution_count": 26,
     "metadata": {},
     "output_type": "execute_result"
    }
   ],
   "source": [
    "nyc.dtypes"
   ]
  },
  {
   "cell_type": "code",
   "execution_count": 27,
   "metadata": {},
   "outputs": [
    {
     "ename": "AttributeError",
     "evalue": "'Series' object has no attribute 'contains'",
     "output_type": "error",
     "traceback": [
      "\u001b[1;31m---------------------------------------------------------------------------\u001b[0m",
      "\u001b[1;31mAttributeError\u001b[0m                            Traceback (most recent call last)",
      "\u001b[1;32m<ipython-input-27-85e9874d0638>\u001b[0m in \u001b[0;36m<module>\u001b[1;34m\u001b[0m\n\u001b[1;32m----> 1\u001b[1;33m \u001b[0mnyc\u001b[0m\u001b[1;33m[\u001b[0m\u001b[1;34m'INSPECTION DATE'\u001b[0m\u001b[1;33m]\u001b[0m\u001b[1;33m.\u001b[0m\u001b[0mcontains\u001b[0m\u001b[1;33m(\u001b[0m\u001b[1;34m'01'\u001b[0m\u001b[1;33m)\u001b[0m\u001b[1;33m\u001b[0m\u001b[1;33m\u001b[0m\u001b[0m\n\u001b[0m",
      "\u001b[1;32m~\\Anaconda3\\lib\\site-packages\\pandas\\core\\generic.py\u001b[0m in \u001b[0;36m__getattr__\u001b[1;34m(self, name)\u001b[0m\n\u001b[0;32m   5272\u001b[0m             \u001b[1;32mif\u001b[0m \u001b[0mself\u001b[0m\u001b[1;33m.\u001b[0m\u001b[0m_info_axis\u001b[0m\u001b[1;33m.\u001b[0m\u001b[0m_can_hold_identifiers_and_holds_name\u001b[0m\u001b[1;33m(\u001b[0m\u001b[0mname\u001b[0m\u001b[1;33m)\u001b[0m\u001b[1;33m:\u001b[0m\u001b[1;33m\u001b[0m\u001b[1;33m\u001b[0m\u001b[0m\n\u001b[0;32m   5273\u001b[0m                 \u001b[1;32mreturn\u001b[0m \u001b[0mself\u001b[0m\u001b[1;33m[\u001b[0m\u001b[0mname\u001b[0m\u001b[1;33m]\u001b[0m\u001b[1;33m\u001b[0m\u001b[1;33m\u001b[0m\u001b[0m\n\u001b[1;32m-> 5274\u001b[1;33m             \u001b[1;32mreturn\u001b[0m \u001b[0mobject\u001b[0m\u001b[1;33m.\u001b[0m\u001b[0m__getattribute__\u001b[0m\u001b[1;33m(\u001b[0m\u001b[0mself\u001b[0m\u001b[1;33m,\u001b[0m \u001b[0mname\u001b[0m\u001b[1;33m)\u001b[0m\u001b[1;33m\u001b[0m\u001b[1;33m\u001b[0m\u001b[0m\n\u001b[0m\u001b[0;32m   5275\u001b[0m \u001b[1;33m\u001b[0m\u001b[0m\n\u001b[0;32m   5276\u001b[0m     \u001b[1;32mdef\u001b[0m \u001b[0m__setattr__\u001b[0m\u001b[1;33m(\u001b[0m\u001b[0mself\u001b[0m\u001b[1;33m,\u001b[0m \u001b[0mname\u001b[0m\u001b[1;33m:\u001b[0m \u001b[0mstr\u001b[0m\u001b[1;33m,\u001b[0m \u001b[0mvalue\u001b[0m\u001b[1;33m)\u001b[0m \u001b[1;33m->\u001b[0m \u001b[1;32mNone\u001b[0m\u001b[1;33m:\u001b[0m\u001b[1;33m\u001b[0m\u001b[1;33m\u001b[0m\u001b[0m\n",
      "\u001b[1;31mAttributeError\u001b[0m: 'Series' object has no attribute 'contains'"
     ]
    }
   ],
   "source": [
    "nyc['INSPECTION DATE'].contains('01')"
   ]
  },
  {
   "cell_type": "code",
   "execution_count": 30,
   "metadata": {},
   "outputs": [
    {
     "data": {
      "text/plain": [
       "<matplotlib.axes._subplots.AxesSubplot at 0x2671ada14c8>"
      ]
     },
     "execution_count": 30,
     "metadata": {},
     "output_type": "execute_result"
    },
    {
     "data": {
      "image/png": "[encoded data removed]",
      "text/plain": [
       "<Figure size 432x288 with 1 Axes>"
      ]
     },
     "metadata": {
      "needs_background": "light"
     },
     "output_type": "display_data"
    }
   ],
   "source": [
    "nyc['CUISINE DESCRIPTION'].value_counts().head(n=15).plot(kind='bar')"
   ]
  },
  {
   "cell_type": "code",
   "execution_count": 31,
   "metadata": {},
   "outputs": [
    {
     "data": {
      "text/plain": [
       "American                                                            21688\n",
       "Chinese                                                             12486\n",
       "Café/Coffee/Tea                                                      5456\n",
       "Pizza                                                                5128\n",
       "Latin (Cuban, Dominican, Puerto Rican, South & Central American)     4696\n",
       "                                                                    ...  \n",
       "Soups                                                                  18\n",
       "Nuts/Confectionary                                                     13\n",
       "Czech                                                                   6\n",
       "Chilean                                                                 6\n",
       "Basque                                                                  2\n",
       "Name: CUISINE DESCRIPTION, Length: 84, dtype: int64"
      ]
     },
     "execution_count": 31,
     "metadata": {},
     "output_type": "execute_result"
    }
   ],
   "source": [
    "nyc['CUISINE DESCRIPTION'].value_counts()"
   ]
  },
  {
   "cell_type": "code",
   "execution_count": 32,
   "metadata": {},
   "outputs": [],
   "source": [
    "#There are 84 different cuisine descriptions"
   ]
  },
  {
   "cell_type": "code",
   "execution_count": 37,
   "metadata": {},
   "outputs": [
    {
     "data": {
      "text/plain": [
       "20.332909899283187"
      ]
     },
     "execution_count": 37,
     "metadata": {},
     "output_type": "execute_result"
    }
   ],
   "source": [
    "jan_filter=nyc['INSPECTION DATE'].dt.month==1\n",
    "nyc[jan_filter]['SCORE'].mean()"
   ]
  },
  {
   "cell_type": "code",
   "execution_count": 39,
   "metadata": {},
   "outputs": [
    {
     "data": {
      "text/plain": [
       "26.203096228602604"
      ]
     },
     "execution_count": 39,
     "metadata": {},
     "output_type": "execute_result"
    }
   ],
   "source": [
    "july_filter=nyc['INSPECTION DATE'].dt.month==7\n",
    "nyc[july_filter]['SCORE'].mean()"
   ]
  },
  {
   "cell_type": "code",
   "execution_count": 35,
   "metadata": {
    "scrolled": true
   },
   "outputs": [
    {
     "data": {
      "text/plain": [
       "<matplotlib.axes._subplots.AxesSubplot at 0x2671ae52448>"
      ]
     },
     "execution_count": 35,
     "metadata": {},
     "output_type": "execute_result"
    },
    {
     "data": {
      "image/png": "[encoded data removed]",
      "text/plain": [
       "<Figure size 432x288 with 1 Axes>"
      ]
     },
     "metadata": {
      "needs_background": "light"
     },
     "output_type": "display_data"
    }
   ],
   "source": [
    "nyc['SCORE'].hist(bins=30)"
   ]
  },
  {
   "cell_type": "code",
   "execution_count": 42,
   "metadata": {},
   "outputs": [],
   "source": [
    "pd.set_option('display.max_columns', None)"
   ]
  },
  {
   "cell_type": "code",
   "execution_count": 44,
   "metadata": {},
   "outputs": [],
   "source": [
    "pd.set_option('display.max_rows', None)"
   ]
  },
  {
   "cell_type": "code",
   "execution_count": 46,
   "metadata": {
    "scrolled": true
   },
   "outputs": [
    {
     "data": {
      "text/plain": [
       "American                                                            21688\n",
       "Chinese                                                             12486\n",
       "Café/Coffee/Tea                                                      5456\n",
       "Pizza                                                                5128\n",
       "Latin (Cuban, Dominican, Puerto Rican, South & Central American)     4696\n",
       "Mexican                                                              4411\n",
       "Italian                                                              4283\n",
       "Caribbean                                                            4180\n",
       "Japanese                                                             3848\n",
       "Spanish                                                              3696\n",
       "Bakery                                                               3233\n",
       "Chicken                                                              2381\n",
       "Pizza/Italian                                                        2276\n",
       "Indian                                                               2040\n",
       "Asian                                                                1963\n",
       "Delicatessen                                                         1781\n",
       "Korean                                                               1710\n",
       "Jewish/Kosher                                                        1662\n",
       "Thai                                                                 1591\n",
       "Juice, Smoothies, Fruit Salads                                       1399\n",
       "Mediterranean                                                        1273\n",
       "Donuts                                                               1249\n",
       "French                                                               1171\n",
       "Sandwiches                                                           1139\n",
       "Hamburgers                                                           1107\n",
       "Middle Eastern                                                        915\n",
       "Ice Cream, Gelato, Yogurt, Ices                                       888\n",
       "Seafood                                                               867\n",
       "Irish                                                                 863\n",
       "Sandwiches/Salads/Mixed Buffet                                        774\n",
       "Greek                                                                 648\n",
       "Vegetarian                                                            601\n",
       "Bagels/Pretzels                                                       586\n",
       "Vietnamese/Cambodian/Malaysia                                         564\n",
       "African                                                               539\n",
       "Peruvian                                                              488\n",
       "Other                                                                 484\n",
       "Tex-Mex                                                               467\n",
       "Bangladeshi                                                           464\n",
       "Eastern European                                                      395\n",
       "Steak                                                                 358\n",
       "Turkish                                                               326\n",
       "Russian                                                               323\n",
       "Bottled beverages, including water, sodas, juices, etc.               320\n",
       "Soul Food                                                             305\n",
       "Barbecue                                                              252\n",
       "Chinese/Japanese                                                      236\n",
       "Salads                                                                224\n",
       "Pakistani                                                             211\n",
       "Filipino                                                              207\n",
       "Hawaiian                                                              182\n",
       "Chinese/Cuban                                                         174\n",
       "Tapas                                                                 159\n",
       "Creole                                                                148\n",
       "Polish                                                                133\n",
       "Continental                                                           127\n",
       "Soups & Sandwiches                                                    116\n",
       "German                                                                115\n",
       "Australian                                                            110\n",
       "Brazilian                                                             109\n",
       "Hotdogs/Pretzels                                                       89\n",
       "Ethiopian                                                              81\n",
       "Armenian                                                               72\n",
       "Pancakes/Waffles                                                       52\n",
       "Afghan                                                                 46\n",
       "Moroccan                                                               45\n",
       "Egyptian                                                               44\n",
       "Creole/Cajun                                                           43\n",
       "Fruits/Vegetables                                                      39\n",
       "Hotdogs                                                                39\n",
       "English                                                                39\n",
       "Portuguese                                                             32\n",
       "Californian                                                            30\n",
       "Indonesian                                                             29\n",
       "Southwestern                                                           27\n",
       "Cajun                                                                  25\n",
       "Not Listed/Not Applicable                                              24\n",
       "Scandinavian                                                           19\n",
       "Iranian                                                                19\n",
       "Soups                                                                  18\n",
       "Nuts/Confectionary                                                     13\n",
       "Czech                                                                   6\n",
       "Chilean                                                                 6\n",
       "Basque                                                                  2\n",
       "Name: CUISINE DESCRIPTION, dtype: int64"
      ]
     },
     "execution_count": 46,
     "metadata": {},
     "output_type": "execute_result"
    }
   ],
   "source": [
    "nyc['CUISINE DESCRIPTION'].value_counts()"
   ]
  },
  {
   "cell_type": "code",
   "execution_count": null,
   "metadata": {},
   "outputs": [],
   "source": []
  }
 ],
 "metadata": {
  "kernelspec": {
   "display_name": "Python 3",
   "language": "python",
   "name": "python3"
  },
  "language_info": {
   "codemirror_mode": {
    "name": "ipython",
    "version": 3
   },
   "file_extension": ".py",
   "mimetype": "text/x-python",
   "name": "python",
   "nbconvert_exporter": "python",
   "pygments_lexer": "ipython3",
   "version": "3.7.7"
  }
 },
 "nbformat": 4,
 "nbformat_minor": 2
}
