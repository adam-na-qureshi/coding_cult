{
 "cells": [
  {
   "cell_type": "markdown",
   "metadata": {},
   "source": [
    "Boolean expressions: Expression that is either true or false"
   ]
  },
  {
   "cell_type": "code",
   "execution_count": 1,
   "metadata": {},
   "outputs": [
    {
     "data": {
      "text/plain": [
       "True"
      ]
     },
     "execution_count": 1,
     "metadata": {},
     "output_type": "execute_result"
    }
   ],
   "source": [
    "5==5"
   ]
  },
  {
   "cell_type": "code",
   "execution_count": 2,
   "metadata": {},
   "outputs": [
    {
     "data": {
      "text/plain": [
       "False"
      ]
     },
     "execution_count": 2,
     "metadata": {},
     "output_type": "execute_result"
    }
   ],
   "source": [
    "5==6"
   ]
  },
  {
   "cell_type": "code",
   "execution_count": 3,
   "metadata": {},
   "outputs": [
    {
     "data": {
      "text/plain": [
       "bool"
      ]
     },
     "execution_count": 3,
     "metadata": {},
     "output_type": "execute_result"
    }
   ],
   "source": [
    "type(True)"
   ]
  },
  {
   "cell_type": "code",
   "execution_count": 4,
   "metadata": {},
   "outputs": [
    {
     "data": {
      "text/plain": [
       "bool"
      ]
     },
     "execution_count": 4,
     "metadata": {},
     "output_type": "execute_result"
    }
   ],
   "source": [
    "type(False)"
   ]
  },
  {
   "cell_type": "markdown",
   "metadata": {},
   "source": [
    "# Comparison Operators \n",
    "\n",
    "x != y  #x is not equal to y\n",
    "\n",
    "x > y  #x is greater than y\n",
    "\n",
    "x < y  #x is less than y\n",
    "\n",
    "x  >= y #x is greater than or equal to y\n",
    "\n",
    "x <= y  #x is less than or equal to y\n",
    "\n",
    "x is y  #x is the same as y\n",
    "\n",
    "x is not y #x is not the same as y\n",
    "\n",
    "x == y #x is equal to y"
   ]
  },
  {
   "cell_type": "markdown",
   "metadata": {},
   "source": [
    "== and = are different things. = is an assignment operator for variables such as name=\"adam\". == is a comparison operator. \n",
    "\n",
    "there is no such thing as =< and =>"
   ]
  },
  {
   "cell_type": "markdown",
   "metadata": {},
   "source": [
    "# Logical Operators"
   ]
  },
  {
   "cell_type": "markdown",
   "metadata": {},
   "source": [
    "Three different logical operators: *and*, *or*, and *not*\n",
    "\n",
    "and: x > 0 and x < 10\n",
    "\n",
    "is true only if x is grater than 0 *and* less than 10\n",
    "\n",
    "or: n%2 == 0 or n%3 == 0 \n",
    "\n",
    "is true if either of the conditions are true. meaning that n is a number divisible by 2 *or* 3\n",
    "\n",
    "not: not (x>y)\n",
    "\n",
    "is true if x>y is false, meaning that x is less than or equal to y\n",
    "\n",
    "\n",
    "\n",
    "\n"
   ]
  },
  {
   "cell_type": "markdown",
   "metadata": {},
   "source": [
    "# If Statements\n",
    "\n",
    "If statements are considered *compound statements* because they stretch across more than one line"
   ]
  },
  {
   "cell_type": "code",
   "execution_count": 12,
   "metadata": {},
   "outputs": [
    {
     "name": "stdout",
     "output_type": "stream",
     "text": [
      "x is positive\n"
     ]
    }
   ],
   "source": [
    "x=1\n",
    "if x>0:\n",
    "    print('x is positive')"
   ]
  },
  {
   "cell_type": "code",
   "execution_count": 13,
   "metadata": {},
   "outputs": [],
   "source": [
    "x=-1\n",
    "if x>0:\n",
    "    print('x is positive')\n",
    "\n",
    "#Print command is skipped since x is not greater than 0"
   ]
  },
  {
   "cell_type": "code",
   "execution_count": 14,
   "metadata": {},
   "outputs": [],
   "source": [
    "if x<0:\n",
    "    pass"
   ]
  },
  {
   "cell_type": "code",
   "execution_count": 15,
   "metadata": {},
   "outputs": [
    {
     "name": "stdout",
     "output_type": "stream",
     "text": [
      "Small\n"
     ]
    }
   ],
   "source": [
    "x=3\n",
    "if x<10: \n",
    "    print('Small')"
   ]
  },
  {
   "cell_type": "code",
   "execution_count": 19,
   "metadata": {},
   "outputs": [
    {
     "name": "stdout",
     "output_type": "stream",
     "text": [
      "x is even\n"
     ]
    }
   ],
   "source": [
    "#Alternative execution - two possibilities to if statement\n",
    "#x%2 == 0 determines if the remainder is 0\n",
    "x=4\n",
    "if x%2 == 0:\n",
    "    print('x is even')\n",
    "else:\n",
    "    print('x is odd')"
   ]
  },
  {
   "cell_type": "code",
   "execution_count": 21,
   "metadata": {},
   "outputs": [
    {
     "name": "stdout",
     "output_type": "stream",
     "text": [
      "x is greater than y\n"
     ]
    }
   ],
   "source": [
    "#Chained conditionals\n",
    "x=5\n",
    "y=3\n",
    "\n",
    "if x<y:\n",
    "    print('x is less than y')\n",
    "elif x>y:\n",
    "    print('x is greater than y')\n",
    "else:\n",
    "    print('x and y are equal')\n",
    "    \n",
    "#No limit to the amount of elif (else if) statements you can have. Else statements must be placed at the end\n",
    "#Elif statements can be placed at the end too"
   ]
  },
  {
   "cell_type": "code",
   "execution_count": 28,
   "metadata": {},
   "outputs": [
    {
     "name": "stdout",
     "output_type": "stream",
     "text": [
      "Choose a, b, or c: b\n",
      "Good guess\n"
     ]
    }
   ],
   "source": [
    "choice=input('Choose a, b, or c: ')\n",
    "if choice=='a':\n",
    "             print('Bad guess')\n",
    "elif choice=='b':\n",
    "             print('Good guess')\n",
    "elif choice=='c':\n",
    "             print('Close, but not correct')"
   ]
  },
  {
   "cell_type": "code",
   "execution_count": 30,
   "metadata": {},
   "outputs": [
    {
     "name": "stdout",
     "output_type": "stream",
     "text": [
      "x and y are equal\n"
     ]
    }
   ],
   "source": [
    "#Nested conditionals\n",
    "x=5\n",
    "y=5\n",
    "\n",
    "if x==y:\n",
    "    print('x and y are equal')\n",
    "else:\n",
    "    if x<y:\n",
    "        print('x is greater than y')\n",
    "    else:\n",
    "        print('x is less than y')\n",
    "        \n",
    "#Generally want to avoid nested conditonals as they can get complicated fast, example of reducing nested conditional shown below"
   ]
  },
  {
   "cell_type": "code",
   "execution_count": 31,
   "metadata": {},
   "outputs": [
    {
     "name": "stdout",
     "output_type": "stream",
     "text": [
      "x is a positive single digit number\n"
     ]
    }
   ],
   "source": [
    "x=8\n",
    "if 0<x:\n",
    "    if x<10:\n",
    "        print('x is a positive single digit number')"
   ]
  },
  {
   "cell_type": "code",
   "execution_count": 32,
   "metadata": {},
   "outputs": [
    {
     "name": "stdout",
     "output_type": "stream",
     "text": [
      "x is a positive single digit number\n"
     ]
    }
   ],
   "source": [
    "#Reduce the above statements with an and statement\n",
    "\n",
    "if 0<x and x<10:\n",
    "    print('x is a positive single digit number')"
   ]
  },
  {
   "cell_type": "code",
   "execution_count": 35,
   "metadata": {},
   "outputs": [
    {
     "name": "stdout",
     "output_type": "stream",
     "text": [
      "Enter fahrenheit temperature: Fred\n"
     ]
    },
    {
     "ename": "ValueError",
     "evalue": "could not convert string to float: 'Fred'",
     "output_type": "error",
     "traceback": [
      "\u001b[1;31m---------------------------------------------------------------------------\u001b[0m",
      "\u001b[1;31mValueError\u001b[0m                                Traceback (most recent call last)",
      "\u001b[1;32m<ipython-input-35-34dbb1941981>\u001b[0m in \u001b[0;36m<module>\u001b[1;34m\u001b[0m\n\u001b[0;32m      4\u001b[0m \u001b[1;33m\u001b[0m\u001b[0m\n\u001b[0;32m      5\u001b[0m \u001b[0minp\u001b[0m\u001b[1;33m=\u001b[0m\u001b[0minput\u001b[0m\u001b[1;33m(\u001b[0m\u001b[1;34m'Enter fahrenheit temperature: '\u001b[0m\u001b[1;33m)\u001b[0m\u001b[1;33m\u001b[0m\u001b[1;33m\u001b[0m\u001b[0m\n\u001b[1;32m----> 6\u001b[1;33m \u001b[0mfahr\u001b[0m\u001b[1;33m=\u001b[0m\u001b[0mfloat\u001b[0m\u001b[1;33m(\u001b[0m\u001b[0minp\u001b[0m\u001b[1;33m)\u001b[0m\u001b[1;33m\u001b[0m\u001b[1;33m\u001b[0m\u001b[0m\n\u001b[0m\u001b[0;32m      7\u001b[0m \u001b[0mcel\u001b[0m\u001b[1;33m=\u001b[0m\u001b[1;33m(\u001b[0m\u001b[0mfahr\u001b[0m\u001b[1;33m-\u001b[0m\u001b[1;36m32.0\u001b[0m\u001b[1;33m)\u001b[0m\u001b[1;33m*\u001b[0m\u001b[1;36m5.0\u001b[0m\u001b[1;33m/\u001b[0m\u001b[1;36m9.0\u001b[0m\u001b[1;33m\u001b[0m\u001b[1;33m\u001b[0m\u001b[0m\n\u001b[0;32m      8\u001b[0m \u001b[0mprint\u001b[0m\u001b[1;33m(\u001b[0m\u001b[0mcel\u001b[0m\u001b[1;33m)\u001b[0m\u001b[1;33m\u001b[0m\u001b[1;33m\u001b[0m\u001b[0m\n",
      "\u001b[1;31mValueError\u001b[0m: could not convert string to float: 'Fred'"
     ]
    }
   ],
   "source": [
    "#Try and Except\n",
    "#Try and Except are good as an \"Insurance policy\" for python code\n",
    "#Example shows an F to C temperature converter. First one does not include try and except and will stop if string is entered\n",
    "\n",
    "inp=input('Enter fahrenheit temperature: ')\n",
    "fahr=float(inp)\n",
    "cel=(fahr-32.0)*5.0/9.0\n",
    "print(cel)"
   ]
  },
  {
   "cell_type": "code",
   "execution_count": 39,
   "metadata": {},
   "outputs": [
    {
     "name": "stdout",
     "output_type": "stream",
     "text": [
      "Enter fahrenheit temperature: Fred\n",
      "Please enter a number\n"
     ]
    }
   ],
   "source": [
    "#This attempt includes try and except\n",
    "\n",
    "inp=input('Enter fahrenheit temperature: ')\n",
    "try:\n",
    "    fahr=float(inp)\n",
    "    cel=(fahr-32.0)*5.0/9.0\n",
    "    print(cel)\n",
    "except:\n",
    "    print('Please enter a number')\n",
    "    \n",
    "#Python executes the try block first, if all goes well except block is skipped. ALl does not go well and except block is executed."
   ]
  },
  {
   "cell_type": "code",
   "execution_count": 53,
   "metadata": {},
   "outputs": [
    {
     "name": "stdout",
     "output_type": "stream",
     "text": [
      "Enter your hours: 45\n",
      "Enter your hourly rate: 10\n",
      "475.0\n"
     ]
    }
   ],
   "source": [
    "#Book exercises\n",
    "\n",
    "hours=float(input('Enter your hours: '))\n",
    "rate=float(input('Enter your hourly rate: '))\n",
    "if hours>40:\n",
    "    print((40*rate)+((hours-40)*(rate*1.5)))\n",
    "else:\n",
    "    print(hours*rate)"
   ]
  },
  {
   "cell_type": "code",
   "execution_count": 62,
   "metadata": {},
   "outputs": [
    {
     "name": "stdout",
     "output_type": "stream",
     "text": [
      "Enter your hours: 45\n",
      "Enter your hourly rate: ten\n",
      "please enter numeric input\n"
     ]
    }
   ],
   "source": [
    "hours_inp=input('Enter your hours: ')\n",
    "rate_inp=input('Enter your hourly rate: ')\n",
    "\n",
    "try:\n",
    "    hours=float(hours_inp)\n",
    "    rate=float(rate_inp)\n",
    "    if hours>40:\n",
    "        print((40*rate)+((hours-40)*(rate*1.5)))\n",
    "    else:\n",
    "        print(hours*rate)\n",
    "except:\n",
    "    print('please enter numeric input')"
   ]
  },
  {
   "cell_type": "code",
   "execution_count": 7,
   "metadata": {},
   "outputs": [
    {
     "name": "stdout",
     "output_type": "stream",
     "text": [
      "Enter your score: -2.0\n",
      "Please enter a numeric value between 0.0 and 1.0\n"
     ]
    }
   ],
   "source": [
    "inp=input('Enter your score: ')\n",
    "try:\n",
    "    score=float(inp)\n",
    "    if score<0.6 and score>=0.0:\n",
    "        print('F')\n",
    "    elif score>=0.6 and score<0.7:\n",
    "        print('D')\n",
    "    elif score>=0.7 and score<0.8:\n",
    "        print('C')\n",
    "    elif score >=0.8 and score<0.9:\n",
    "        print('B')\n",
    "    elif score>=0.9 and score<=1.0:\n",
    "        print('A')\n",
    "    elif score<0.0 or score>1.0:\n",
    "        print('Please enter a numeric value between 0.0 and 1.0')\n",
    "except:\n",
    "    print('Please enter a numeric value between 0.0 and 1.0')"
   ]
  },
  {
   "cell_type": "code",
   "execution_count": null,
   "metadata": {},
   "outputs": [],
   "source": []
  }
 ],
 "metadata": {
  "kernelspec": {
   "display_name": "Python 3",
   "language": "python",
   "name": "python3"
  },
  "language_info": {
   "codemirror_mode": {
    "name": "ipython",
    "version": 3
   },
   "file_extension": ".py",
   "mimetype": "text/x-python",
   "name": "python",
   "nbconvert_exporter": "python",
   "pygments_lexer": "ipython3",
   "version": "3.7.7"
  }
 },
 "nbformat": 4,
 "nbformat_minor": 4
}
